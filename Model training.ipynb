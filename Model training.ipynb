{
 "cells": [
  {
   "cell_type": "code",
   "execution_count": 1,
   "metadata": {},
   "outputs": [],
   "source": [
    "import os\n",
    "\n",
    "import numpy as np\n",
    "import pandas as pd\n",
    "\n",
    "from pprint import pprint\n",
    "import matplotlib.pyplot as plt\n",
    "from time import gmtime, strftime\n",
    "\n",
    "import sklearn.model_selection"
   ]
  },
  {
   "cell_type": "markdown",
   "metadata": {},
   "source": [
    "## Setting up the notebook\n"
   ]
  },
  {
   "cell_type": "code",
   "execution_count": 2,
   "metadata": {},
   "outputs": [],
   "source": [
    "import sagemaker\n",
    "from sagemaker import get_execution_role\n",
    "from sagemaker.amazon.amazon_estimator import get_image_uri\n",
    "from sagemaker.predictor import csv_serializer\n",
    "\n",
    "# This is an object that represents the SageMaker session that we are currently operating in. This\n",
    "# object contains some useful information that we will need to access later such as our region.\n",
    "session = sagemaker.Session()\n",
    "\n",
    "# This is an object that represents the IAM role that we are currently assigned. When we construct\n",
    "# and launch the training job later we will need to tell it what IAM role it should have. Since our\n",
    "# use case is relatively simple we will simply assign the training job the role we currently have.\n",
    "role = get_execution_role()"
   ]
  },
  {
   "cell_type": "markdown",
   "metadata": {},
   "source": [
    "## Preparing and splitting the data"
   ]
  },
  {
   "cell_type": "markdown",
   "metadata": {},
   "source": [
    "This is the files that were saved during the preprocessing of the data set"
   ]
  },
  {
   "cell_type": "code",
   "execution_count": 3,
   "metadata": {},
   "outputs": [],
   "source": [
    "train = pd.read_csv(\"data/train_data.csv\",index_col=0)"
   ]
  },
  {
   "cell_type": "code",
   "execution_count": 60,
   "metadata": {},
   "outputs": [
    {
     "data": {
      "text/html": [
       "<div>\n",
       "<style scoped>\n",
       "    .dataframe tbody tr th:only-of-type {\n",
       "        vertical-align: middle;\n",
       "    }\n",
       "\n",
       "    .dataframe tbody tr th {\n",
       "        vertical-align: top;\n",
       "    }\n",
       "\n",
       "    .dataframe thead th {\n",
       "        text-align: right;\n",
       "    }\n",
       "</style>\n",
       "<table border=\"1\" class=\"dataframe\">\n",
       "  <thead>\n",
       "    <tr style=\"text-align: right;\">\n",
       "      <th></th>\n",
       "      <th>segment_id</th>\n",
       "      <th>time_to_eruption</th>\n",
       "      <th>sensor_1_mean</th>\n",
       "      <th>sensor_2_mean</th>\n",
       "      <th>sensor_3_mean</th>\n",
       "      <th>sensor_4_mean</th>\n",
       "      <th>sensor_5_mean</th>\n",
       "      <th>sensor_6_mean</th>\n",
       "      <th>sensor_7_mean</th>\n",
       "      <th>sensor_8_mean</th>\n",
       "      <th>...</th>\n",
       "      <th>sensor_1_abs_1500_max</th>\n",
       "      <th>sensor_2_abs_1500_max</th>\n",
       "      <th>sensor_3_abs_1500_max</th>\n",
       "      <th>sensor_4_abs_1500_max</th>\n",
       "      <th>sensor_5_abs_1500_max</th>\n",
       "      <th>sensor_6_abs_1500_max</th>\n",
       "      <th>sensor_7_abs_1500_max</th>\n",
       "      <th>sensor_8_abs_1500_max</th>\n",
       "      <th>sensor_9_abs_1500_max</th>\n",
       "      <th>sensor_10_abs_1500_max</th>\n",
       "    </tr>\n",
       "  </thead>\n",
       "  <tbody>\n",
       "    <tr>\n",
       "      <th>0</th>\n",
       "      <td>1136037770</td>\n",
       "      <td>12262005</td>\n",
       "      <td>-1.610323</td>\n",
       "      <td>4.613823</td>\n",
       "      <td>3.559724</td>\n",
       "      <td>2.019983</td>\n",
       "      <td>NaN</td>\n",
       "      <td>-9.718855</td>\n",
       "      <td>7.060032</td>\n",
       "      <td>1.268362</td>\n",
       "      <td>...</td>\n",
       "      <td>NaN</td>\n",
       "      <td>50607.0</td>\n",
       "      <td>NaN</td>\n",
       "      <td>16413.0</td>\n",
       "      <td>NaN</td>\n",
       "      <td>51787.0</td>\n",
       "      <td>5705.0</td>\n",
       "      <td>39659.0</td>\n",
       "      <td>43724.0</td>\n",
       "      <td>43845.0</td>\n",
       "    </tr>\n",
       "    <tr>\n",
       "      <th>1</th>\n",
       "      <td>1969647810</td>\n",
       "      <td>32739612</td>\n",
       "      <td>1.426126</td>\n",
       "      <td>2.484442</td>\n",
       "      <td>-2.794270</td>\n",
       "      <td>-1.700572</td>\n",
       "      <td>0.732104</td>\n",
       "      <td>-8.975067</td>\n",
       "      <td>5.870219</td>\n",
       "      <td>-1.086832</td>\n",
       "      <td>...</td>\n",
       "      <td>58311.0</td>\n",
       "      <td>15205.0</td>\n",
       "      <td>58552.0</td>\n",
       "      <td>17409.0</td>\n",
       "      <td>494.0</td>\n",
       "      <td>18153.0</td>\n",
       "      <td>18333.0</td>\n",
       "      <td>17989.0</td>\n",
       "      <td>17279.0</td>\n",
       "      <td>58131.0</td>\n",
       "    </tr>\n",
       "    <tr>\n",
       "      <th>2</th>\n",
       "      <td>1895879680</td>\n",
       "      <td>14965999</td>\n",
       "      <td>2.504592</td>\n",
       "      <td>5.449709</td>\n",
       "      <td>-1.588540</td>\n",
       "      <td>-1.150831</td>\n",
       "      <td>NaN</td>\n",
       "      <td>-13.328361</td>\n",
       "      <td>-1.957634</td>\n",
       "      <td>-4.111615</td>\n",
       "      <td>...</td>\n",
       "      <td>NaN</td>\n",
       "      <td>6908.0</td>\n",
       "      <td>NaN</td>\n",
       "      <td>45035.0</td>\n",
       "      <td>NaN</td>\n",
       "      <td>34602.0</td>\n",
       "      <td>50081.0</td>\n",
       "      <td>NaN</td>\n",
       "      <td>28581.0</td>\n",
       "      <td>44479.0</td>\n",
       "    </tr>\n",
       "    <tr>\n",
       "      <th>3</th>\n",
       "      <td>2068207140</td>\n",
       "      <td>26469720</td>\n",
       "      <td>2.165797</td>\n",
       "      <td>-0.373377</td>\n",
       "      <td>-2.698988</td>\n",
       "      <td>-1.316861</td>\n",
       "      <td>0.308795</td>\n",
       "      <td>-0.836886</td>\n",
       "      <td>-0.843136</td>\n",
       "      <td>-0.175314</td>\n",
       "      <td>...</td>\n",
       "      <td>NaN</td>\n",
       "      <td>53086.0</td>\n",
       "      <td>NaN</td>\n",
       "      <td>NaN</td>\n",
       "      <td>53292.0</td>\n",
       "      <td>57272.0</td>\n",
       "      <td>54587.0</td>\n",
       "      <td>19648.0</td>\n",
       "      <td>53769.0</td>\n",
       "      <td>54010.0</td>\n",
       "    </tr>\n",
       "    <tr>\n",
       "      <th>4</th>\n",
       "      <td>192955606</td>\n",
       "      <td>31072429</td>\n",
       "      <td>0.073815</td>\n",
       "      <td>NaN</td>\n",
       "      <td>1.998883</td>\n",
       "      <td>0.245079</td>\n",
       "      <td>-0.441376</td>\n",
       "      <td>2.205647</td>\n",
       "      <td>-4.784354</td>\n",
       "      <td>-1.730321</td>\n",
       "      <td>...</td>\n",
       "      <td>NaN</td>\n",
       "      <td>NaN</td>\n",
       "      <td>NaN</td>\n",
       "      <td>NaN</td>\n",
       "      <td>NaN</td>\n",
       "      <td>21552.0</td>\n",
       "      <td>NaN</td>\n",
       "      <td>13668.0</td>\n",
       "      <td>58864.0</td>\n",
       "      <td>20384.0</td>\n",
       "    </tr>\n",
       "  </tbody>\n",
       "</table>\n",
       "<p>5 rows × 622 columns</p>\n",
       "</div>"
      ],
      "text/plain": [
       "   segment_id  time_to_eruption  sensor_1_mean  sensor_2_mean  sensor_3_mean  \\\n",
       "0  1136037770          12262005      -1.610323       4.613823       3.559724   \n",
       "1  1969647810          32739612       1.426126       2.484442      -2.794270   \n",
       "2  1895879680          14965999       2.504592       5.449709      -1.588540   \n",
       "3  2068207140          26469720       2.165797      -0.373377      -2.698988   \n",
       "4   192955606          31072429       0.073815            NaN       1.998883   \n",
       "\n",
       "   sensor_4_mean  sensor_5_mean  sensor_6_mean  sensor_7_mean  sensor_8_mean  \\\n",
       "0       2.019983            NaN      -9.718855       7.060032       1.268362   \n",
       "1      -1.700572       0.732104      -8.975067       5.870219      -1.086832   \n",
       "2      -1.150831            NaN     -13.328361      -1.957634      -4.111615   \n",
       "3      -1.316861       0.308795      -0.836886      -0.843136      -0.175314   \n",
       "4       0.245079      -0.441376       2.205647      -4.784354      -1.730321   \n",
       "\n",
       "   ...  sensor_1_abs_1500_max  sensor_2_abs_1500_max  sensor_3_abs_1500_max  \\\n",
       "0  ...                    NaN                50607.0                    NaN   \n",
       "1  ...                58311.0                15205.0                58552.0   \n",
       "2  ...                    NaN                 6908.0                    NaN   \n",
       "3  ...                    NaN                53086.0                    NaN   \n",
       "4  ...                    NaN                    NaN                    NaN   \n",
       "\n",
       "   sensor_4_abs_1500_max  sensor_5_abs_1500_max  sensor_6_abs_1500_max  \\\n",
       "0                16413.0                    NaN                51787.0   \n",
       "1                17409.0                  494.0                18153.0   \n",
       "2                45035.0                    NaN                34602.0   \n",
       "3                    NaN                53292.0                57272.0   \n",
       "4                    NaN                    NaN                21552.0   \n",
       "\n",
       "   sensor_7_abs_1500_max  sensor_8_abs_1500_max  sensor_9_abs_1500_max  \\\n",
       "0                 5705.0                39659.0                43724.0   \n",
       "1                18333.0                17989.0                17279.0   \n",
       "2                50081.0                    NaN                28581.0   \n",
       "3                54587.0                19648.0                53769.0   \n",
       "4                    NaN                13668.0                58864.0   \n",
       "\n",
       "   sensor_10_abs_1500_max  \n",
       "0                 43845.0  \n",
       "1                 58131.0  \n",
       "2                 44479.0  \n",
       "3                 54010.0  \n",
       "4                 20384.0  \n",
       "\n",
       "[5 rows x 622 columns]"
      ]
     },
     "execution_count": 60,
     "metadata": {},
     "output_type": "execute_result"
    }
   ],
   "source": [
    "train.head()"
   ]
  },
  {
   "cell_type": "code",
   "execution_count": 61,
   "metadata": {},
   "outputs": [
    {
     "data": {
      "text/plain": [
       "(4431, 622)"
      ]
     },
     "execution_count": 61,
     "metadata": {},
     "output_type": "execute_result"
    }
   ],
   "source": [
    "train.shape"
   ]
  },
  {
   "cell_type": "code",
   "execution_count": 4,
   "metadata": {},
   "outputs": [],
   "source": [
    "test = pd.read_csv(\"data/test_data.csv\", index_col=0)"
   ]
  },
  {
   "cell_type": "code",
   "execution_count": 214,
   "metadata": {},
   "outputs": [
    {
     "data": {
      "text/html": [
       "<div>\n",
       "<style scoped>\n",
       "    .dataframe tbody tr th:only-of-type {\n",
       "        vertical-align: middle;\n",
       "    }\n",
       "\n",
       "    .dataframe tbody tr th {\n",
       "        vertical-align: top;\n",
       "    }\n",
       "\n",
       "    .dataframe thead th {\n",
       "        text-align: right;\n",
       "    }\n",
       "</style>\n",
       "<table border=\"1\" class=\"dataframe\">\n",
       "  <thead>\n",
       "    <tr style=\"text-align: right;\">\n",
       "      <th></th>\n",
       "      <th>segment_id</th>\n",
       "      <th>sensor_1_mean</th>\n",
       "      <th>sensor_2_mean</th>\n",
       "      <th>sensor_3_mean</th>\n",
       "      <th>sensor_4_mean</th>\n",
       "      <th>sensor_5_mean</th>\n",
       "      <th>sensor_6_mean</th>\n",
       "      <th>sensor_7_mean</th>\n",
       "      <th>sensor_8_mean</th>\n",
       "      <th>sensor_9_mean</th>\n",
       "      <th>...</th>\n",
       "      <th>sensor_1_abs_1500_max</th>\n",
       "      <th>sensor_2_abs_1500_max</th>\n",
       "      <th>sensor_3_abs_1500_max</th>\n",
       "      <th>sensor_4_abs_1500_max</th>\n",
       "      <th>sensor_5_abs_1500_max</th>\n",
       "      <th>sensor_6_abs_1500_max</th>\n",
       "      <th>sensor_7_abs_1500_max</th>\n",
       "      <th>sensor_8_abs_1500_max</th>\n",
       "      <th>sensor_9_abs_1500_max</th>\n",
       "      <th>sensor_10_abs_1500_max</th>\n",
       "    </tr>\n",
       "  </thead>\n",
       "  <tbody>\n",
       "    <tr>\n",
       "      <th>0</th>\n",
       "      <td>1000213997</td>\n",
       "      <td>4.462476</td>\n",
       "      <td>NaN</td>\n",
       "      <td>3.584690</td>\n",
       "      <td>-3.677255</td>\n",
       "      <td>0.932501</td>\n",
       "      <td>-0.119815</td>\n",
       "      <td>-0.801103</td>\n",
       "      <td>-0.580557</td>\n",
       "      <td>-2.540874</td>\n",
       "      <td>...</td>\n",
       "      <td>NaN</td>\n",
       "      <td>NaN</td>\n",
       "      <td>19453.0</td>\n",
       "      <td>20332.0</td>\n",
       "      <td>NaN</td>\n",
       "      <td>8178.0</td>\n",
       "      <td>59843.0</td>\n",
       "      <td>34814.0</td>\n",
       "      <td>38253.0</td>\n",
       "      <td>NaN</td>\n",
       "    </tr>\n",
       "    <tr>\n",
       "      <th>1</th>\n",
       "      <td>100023368</td>\n",
       "      <td>0.838103</td>\n",
       "      <td>NaN</td>\n",
       "      <td>1.009217</td>\n",
       "      <td>-0.757037</td>\n",
       "      <td>0.340894</td>\n",
       "      <td>1.764721</td>\n",
       "      <td>-8.099515</td>\n",
       "      <td>1.104198</td>\n",
       "      <td>2.450759</td>\n",
       "      <td>...</td>\n",
       "      <td>NaN</td>\n",
       "      <td>NaN</td>\n",
       "      <td>NaN</td>\n",
       "      <td>NaN</td>\n",
       "      <td>NaN</td>\n",
       "      <td>59753.0</td>\n",
       "      <td>57627.0</td>\n",
       "      <td>58366.0</td>\n",
       "      <td>NaN</td>\n",
       "      <td>14582.0</td>\n",
       "    </tr>\n",
       "    <tr>\n",
       "      <th>2</th>\n",
       "      <td>1000488999</td>\n",
       "      <td>0.794903</td>\n",
       "      <td>-4.740871</td>\n",
       "      <td>2.116098</td>\n",
       "      <td>-0.380610</td>\n",
       "      <td>NaN</td>\n",
       "      <td>12.569107</td>\n",
       "      <td>1.533874</td>\n",
       "      <td>2.943134</td>\n",
       "      <td>-0.932868</td>\n",
       "      <td>...</td>\n",
       "      <td>21910.0</td>\n",
       "      <td>43407.0</td>\n",
       "      <td>NaN</td>\n",
       "      <td>NaN</td>\n",
       "      <td>NaN</td>\n",
       "      <td>15508.0</td>\n",
       "      <td>NaN</td>\n",
       "      <td>NaN</td>\n",
       "      <td>NaN</td>\n",
       "      <td>NaN</td>\n",
       "    </tr>\n",
       "    <tr>\n",
       "      <th>3</th>\n",
       "      <td>1001028887</td>\n",
       "      <td>1.953717</td>\n",
       "      <td>NaN</td>\n",
       "      <td>0.404360</td>\n",
       "      <td>-0.522891</td>\n",
       "      <td>-3.765535</td>\n",
       "      <td>-1.218796</td>\n",
       "      <td>-1.544341</td>\n",
       "      <td>1.841369</td>\n",
       "      <td>0.783520</td>\n",
       "      <td>...</td>\n",
       "      <td>NaN</td>\n",
       "      <td>NaN</td>\n",
       "      <td>NaN</td>\n",
       "      <td>NaN</td>\n",
       "      <td>NaN</td>\n",
       "      <td>40007.0</td>\n",
       "      <td>24916.0</td>\n",
       "      <td>18768.0</td>\n",
       "      <td>NaN</td>\n",
       "      <td>NaN</td>\n",
       "    </tr>\n",
       "    <tr>\n",
       "      <th>4</th>\n",
       "      <td>1001857862</td>\n",
       "      <td>-3.984584</td>\n",
       "      <td>-3.306728</td>\n",
       "      <td>0.898585</td>\n",
       "      <td>-2.389910</td>\n",
       "      <td>-0.001767</td>\n",
       "      <td>2.661156</td>\n",
       "      <td>0.937434</td>\n",
       "      <td>1.873502</td>\n",
       "      <td>3.618723</td>\n",
       "      <td>...</td>\n",
       "      <td>NaN</td>\n",
       "      <td>50019.0</td>\n",
       "      <td>NaN</td>\n",
       "      <td>50572.0</td>\n",
       "      <td>NaN</td>\n",
       "      <td>43022.0</td>\n",
       "      <td>32276.0</td>\n",
       "      <td>49597.0</td>\n",
       "      <td>NaN</td>\n",
       "      <td>50793.0</td>\n",
       "    </tr>\n",
       "  </tbody>\n",
       "</table>\n",
       "<p>5 rows × 621 columns</p>\n",
       "</div>"
      ],
      "text/plain": [
       "   segment_id  sensor_1_mean  sensor_2_mean  sensor_3_mean  sensor_4_mean  \\\n",
       "0  1000213997       4.462476            NaN       3.584690      -3.677255   \n",
       "1   100023368       0.838103            NaN       1.009217      -0.757037   \n",
       "2  1000488999       0.794903      -4.740871       2.116098      -0.380610   \n",
       "3  1001028887       1.953717            NaN       0.404360      -0.522891   \n",
       "4  1001857862      -3.984584      -3.306728       0.898585      -2.389910   \n",
       "\n",
       "   sensor_5_mean  sensor_6_mean  sensor_7_mean  sensor_8_mean  sensor_9_mean  \\\n",
       "0       0.932501      -0.119815      -0.801103      -0.580557      -2.540874   \n",
       "1       0.340894       1.764721      -8.099515       1.104198       2.450759   \n",
       "2            NaN      12.569107       1.533874       2.943134      -0.932868   \n",
       "3      -3.765535      -1.218796      -1.544341       1.841369       0.783520   \n",
       "4      -0.001767       2.661156       0.937434       1.873502       3.618723   \n",
       "\n",
       "   ...  sensor_1_abs_1500_max  sensor_2_abs_1500_max  sensor_3_abs_1500_max  \\\n",
       "0  ...                    NaN                    NaN                19453.0   \n",
       "1  ...                    NaN                    NaN                    NaN   \n",
       "2  ...                21910.0                43407.0                    NaN   \n",
       "3  ...                    NaN                    NaN                    NaN   \n",
       "4  ...                    NaN                50019.0                    NaN   \n",
       "\n",
       "   sensor_4_abs_1500_max  sensor_5_abs_1500_max  sensor_6_abs_1500_max  \\\n",
       "0                20332.0                    NaN                 8178.0   \n",
       "1                    NaN                    NaN                59753.0   \n",
       "2                    NaN                    NaN                15508.0   \n",
       "3                    NaN                    NaN                40007.0   \n",
       "4                50572.0                    NaN                43022.0   \n",
       "\n",
       "   sensor_7_abs_1500_max  sensor_8_abs_1500_max  sensor_9_abs_1500_max  \\\n",
       "0                59843.0                34814.0                38253.0   \n",
       "1                57627.0                58366.0                    NaN   \n",
       "2                    NaN                    NaN                    NaN   \n",
       "3                24916.0                18768.0                    NaN   \n",
       "4                32276.0                49597.0                    NaN   \n",
       "\n",
       "   sensor_10_abs_1500_max  \n",
       "0                     NaN  \n",
       "1                 14582.0  \n",
       "2                     NaN  \n",
       "3                     NaN  \n",
       "4                 50793.0  \n",
       "\n",
       "[5 rows x 621 columns]"
      ]
     },
     "execution_count": 214,
     "metadata": {},
     "output_type": "execute_result"
    }
   ],
   "source": [
    "test.head()"
   ]
  },
  {
   "cell_type": "markdown",
   "metadata": {},
   "source": [
    "Splitting the data in to training, validation and testing sets"
   ]
  },
  {
   "cell_type": "code",
   "execution_count": 5,
   "metadata": {},
   "outputs": [],
   "source": [
    "from sklearn.model_selection import train_test_split\n",
    "from sklearn.preprocessing import StandardScaler\n"
   ]
  },
  {
   "cell_type": "code",
   "execution_count": 6,
   "metadata": {},
   "outputs": [],
   "source": [
    "# We split the dataset into training and testing sets.\n",
    "X_train, X_test, Y_train, Y_test = train_test_split(train.drop(columns=[\"segment_id\",\"time_to_eruption\"]),\n",
    "                                                    train[[\"time_to_eruption\"]],\n",
    "                                                    test_size=0.20)\n",
    "\n",
    "# Then we split the training set further into training and validation sets.\n",
    "X_train, X_val, Y_train, Y_val = train_test_split(X_train, Y_train, test_size=0.20)\n"
   ]
  },
  {
   "cell_type": "markdown",
   "metadata": {},
   "source": [
    "Features"
   ]
  },
  {
   "cell_type": "code",
   "execution_count": 7,
   "metadata": {},
   "outputs": [],
   "source": [
    "fs = [\"_mean\",\"_std\",\"_max\",\"_min\",\"_mad\",\"_skew\",\"_kurt\",\"_nunique\",\n",
    "      \"_quantile_05\",\"_quantile_10\",\"_quantile_30\",\"_quantile_70\",\"_quantile_90\",\"_quantile_95\",\n",
    "      \"_fft_power_mean\",\"_fft_power_std\",\"_fft_power_min\",\"_fft_power_max\",\n",
    "      \"_fft_power_sum_low\",\"_fft_power_sum_middle\",\"_fft_power_sum_high\",\n",
    "      \"_fft_power_mad\",\"_fft_power_skew\",\"_fft_power_kurt\",\"_fft_power_nunique\",\n",
    "      \"_fft_power_quantile_05\",\"_fft_power_quantile_10\",\"_fft_power_quantile_30\",\"_fft_power_quantile_70\",\n",
    "      \"_fft_power_quantile_90\",\"_fft_power_quantile_95\",\n",
    "      \"_cross_0_count\",\n",
    "      \"_roll_mean_min\",\"_roll_mean_max\",\"_roll_dist_min\",\"_roll_dist_max\",\"_roll_dist_diff_min\",\"_roll_dist_diff_max\"\n",
    "     ]\n",
    "\n",
    "cols = [f\"sensor_{i}{_fs}\" for i in range(1,11) for _fs in fs]"
   ]
  },
  {
   "cell_type": "markdown",
   "metadata": {},
   "source": [
    "I also wanted to see the difference in model performance if I scale the data before training."
   ]
  },
  {
   "cell_type": "code",
   "execution_count": 8,
   "metadata": {},
   "outputs": [],
   "source": [
    "scale_X = StandardScaler()\n",
    "scale = StandardScaler()"
   ]
  },
  {
   "cell_type": "code",
   "execution_count": 9,
   "metadata": {},
   "outputs": [],
   "source": [
    "# Scale X\n",
    "scaled_train_X = pd.DataFrame(scale_X.fit_transform(X_train[cols]),index=X_train.index,columns=cols)\n",
    "scaled_val_X = pd.DataFrame(scale_X.fit_transform(X_val[cols]),index=X_val.index,columns=cols)\n",
    "scaled_test_X  = pd.DataFrame(scale_X.transform(X_test[cols])     ,index=X_test.index ,columns=cols)\n",
    "scaled_test    = pd.DataFrame(scale_X.transform(test[cols])       ,index=test.index   ,columns=cols)\n",
    "\n",
    "# Scale y\n",
    "scaled_train_y = scale.fit_transform(Y_train)[:,0]\n",
    "scaled_val_y = scale.fit_transform(Y_val)[:,0]\n",
    "scaled_test_y  = scale.transform(Y_test)[:,0]"
   ]
  },
  {
   "cell_type": "code",
   "execution_count": 10,
   "metadata": {},
   "outputs": [],
   "source": [
    "scaled_test    = pd.DataFrame(scale_X.transform(test[cols])       ,index=test.index   ,columns=cols)"
   ]
  },
  {
   "cell_type": "markdown",
   "metadata": {},
   "source": [
    "## Uploading the training and validation files to S3"
   ]
  },
  {
   "cell_type": "code",
   "execution_count": 11,
   "metadata": {},
   "outputs": [],
   "source": [
    "# This is our local data directory. We need to make sure that it exists.\n",
    "data_dir = '../data/volcano'\n",
    "if not os.path.exists(data_dir):\n",
    "    os.makedirs(data_dir)"
   ]
  },
  {
   "cell_type": "code",
   "execution_count": 12,
   "metadata": {},
   "outputs": [],
   "source": [
    "prefix = 'volcano-eruption'"
   ]
  },
  {
   "cell_type": "markdown",
   "metadata": {},
   "source": [
    "### Not Scaled Data"
   ]
  },
  {
   "cell_type": "code",
   "execution_count": 13,
   "metadata": {},
   "outputs": [],
   "source": [
    "#not scaled\n",
    "pd.concat([Y_val, X_val], axis=1).to_csv(os.path.join(data_dir, 'validation.csv'), header=False, index=False)\n",
    "pd.concat([Y_train, X_train], axis=1).to_csv(os.path.join(data_dir, 'train.csv'), header=False, index=False)\n",
    "pd.concat([pd.DataFrame(X_test)], \n",
    "          axis=1).to_csv(os.path.join(data_dir, 'test.csv'), header=False, index=False)"
   ]
  },
  {
   "cell_type": "code",
   "execution_count": 15,
   "metadata": {},
   "outputs": [],
   "source": [
    "val_location = session.upload_data(os.path.join(data_dir, 'validation.csv'), key_prefix=prefix)\n",
    "train_location = session.upload_data(os.path.join(data_dir, 'train.csv'), key_prefix=prefix)\n",
    "test_location = session.upload_data(os.path.join(data_dir, 'test.csv'), key_prefix=prefix)"
   ]
  },
  {
   "cell_type": "markdown",
   "metadata": {},
   "source": [
    "### Scaled data"
   ]
  },
  {
   "cell_type": "code",
   "execution_count": 14,
   "metadata": {},
   "outputs": [],
   "source": [
    "#scaled\n",
    "pd.concat([pd.DataFrame(scaled_val_y), pd.DataFrame(scaled_val_X)], \n",
    "          axis=1).to_csv(os.path.join(data_dir, 'validation-scaled.csv'), header=False, index=False)\n",
    "pd.concat([pd.DataFrame(scaled_train_y), pd.DataFrame(scaled_train_X)], \n",
    "          axis=1).to_csv(os.path.join(data_dir, 'train-scaled.csv'), header=False, index=False)\n",
    "pd.concat([pd.DataFrame(scaled_test_X)],\n",
    "          axis=1).to_csv(os.path.join(data_dir, 'test-scaled.csv'), header=False, index=False)"
   ]
  },
  {
   "cell_type": "code",
   "execution_count": 16,
   "metadata": {},
   "outputs": [],
   "source": [
    "val_sc_location = session.upload_data(os.path.join(data_dir, 'validation-scaled.csv'), key_prefix=prefix)\n",
    "train_sc_location = session.upload_data(os.path.join(data_dir, 'train-scaled.csv'), key_prefix=prefix)\n",
    "test_sc_location = session.upload_data(os.path.join(data_dir, 'test-scaled.csv'), key_prefix=prefix)"
   ]
  },
  {
   "cell_type": "markdown",
   "metadata": {},
   "source": [
    "## Train the XGBoost model"
   ]
  },
  {
   "cell_type": "markdown",
   "metadata": {},
   "source": [
    "#### First, let's try training a model with the unscaled data"
   ]
  },
  {
   "cell_type": "code",
   "execution_count": 17,
   "metadata": {},
   "outputs": [
    {
     "name": "stderr",
     "output_type": "stream",
     "text": [
      "The method get_image_uri has been renamed in sagemaker>=2.\n",
      "See: https://sagemaker.readthedocs.io/en/stable/v2.html for details.\n",
      "train_instance_count has been renamed in sagemaker>=2.\n",
      "See: https://sagemaker.readthedocs.io/en/stable/v2.html for details.\n",
      "train_instance_type has been renamed in sagemaker>=2.\n",
      "See: https://sagemaker.readthedocs.io/en/stable/v2.html for details.\n"
     ]
    }
   ],
   "source": [
    "xgb_container = get_image_uri(session.boto_region_name, 'xgboost',repo_version='1.2-1')\n",
    "\n",
    "# Estimator object\n",
    "xgb = sagemaker.estimator.Estimator(xgb_container, # The name of the training container\n",
    "                                    role,      # The IAM role to use (our current role in this case)\n",
    "                                    train_instance_count=1, # The number of instances to use for training\n",
    "                                    train_instance_type='ml.m4.xlarge', # The type of instance ot use for training\n",
    "                                    output_path='s3://{}/{}/output'.format(session.default_bucket(), prefix),\n",
    "                                                                        # Where to save the output (the model artifacts)\n",
    "                                    sagemaker_session=session) # The current SageMaker session"
   ]
  },
  {
   "cell_type": "code",
   "execution_count": 18,
   "metadata": {},
   "outputs": [],
   "source": [
    "xgb.set_hyperparameters(max_depth=5,\n",
    "                        eta=0.2,\n",
    "                        gamma=4,\n",
    "                        min_child_weight=6,\n",
    "                        subsample=0.8,\n",
    "                        objective='reg:linear',\n",
    "                        early_stopping_rounds=10,\n",
    "                        num_round=200)"
   ]
  },
  {
   "cell_type": "code",
   "execution_count": 19,
   "metadata": {},
   "outputs": [],
   "source": [
    "s3_input_train = sagemaker.inputs.TrainingInput(s3_data=train_location, content_type='text/csv')\n",
    "s3_input_validation = sagemaker.inputs.TrainingInput(s3_data=val_location, content_type='text/csv')"
   ]
  },
  {
   "cell_type": "markdown",
   "metadata": {},
   "source": [
    "Without hyperparameter tuning"
   ]
  },
  {
   "cell_type": "code",
   "execution_count": 20,
   "metadata": {},
   "outputs": [
    {
     "name": "stdout",
     "output_type": "stream",
     "text": [
      "2020-12-15 20:54:46 Starting - Starting the training job...\n",
      "2020-12-15 20:54:50 Starting - Launching requested ML instancesProfilerReport-1608065686: InProgress\n",
      "......\n",
      "2020-12-15 20:56:05 Starting - Preparing the instances for training......\n",
      "2020-12-15 20:57:14 Downloading - Downloading input data\n",
      "2020-12-15 20:57:14 Training - Downloading the training image......\n",
      "2020-12-15 20:58:11 Uploading - Uploading generated training model\u001b[34mINFO:sagemaker-containers:Imported framework sagemaker_xgboost_container.training\u001b[0m\n",
      "\u001b[34mINFO:sagemaker-containers:Failed to parse hyperparameter objective value reg:linear to Json.\u001b[0m\n",
      "\u001b[34mReturning the value itself\u001b[0m\n",
      "\u001b[34mINFO:sagemaker-containers:No GPUs detected (normal if no gpus installed)\u001b[0m\n",
      "\u001b[34mINFO:sagemaker_xgboost_container.training:Running XGBoost Sagemaker in algorithm mode\u001b[0m\n",
      "\u001b[34mINFO:root:Determined delimiter of CSV input is ','\u001b[0m\n",
      "\u001b[34mINFO:root:Determined delimiter of CSV input is ','\u001b[0m\n",
      "\u001b[34mINFO:root:Determined delimiter of CSV input is ','\u001b[0m\n",
      "\u001b[34mINFO:root:Determined delimiter of CSV input is ','\u001b[0m\n",
      "\u001b[34mINFO:root:Single node training.\u001b[0m\n",
      "\u001b[34mINFO:root:Train matrix has 2835 rows\u001b[0m\n",
      "\u001b[34mINFO:root:Validation matrix has 709 rows\u001b[0m\n",
      "\u001b[34m[20:57:53] WARNING: ../src/objective/regression_obj.cu:174: reg:linear is now deprecated in favor of reg:squarederror.\u001b[0m\n",
      "\u001b[34m[20:57:53] WARNING: ../src/learner.cc:516: \u001b[0m\n",
      "\u001b[34mParameters: { early_stopping_rounds } might not be used.\n",
      "\n",
      "  This may not be accurate due to some parameters are only used in language bindings but\n",
      "  passed down to XGBoost core.  Or some parameters are not used but slip through this\n",
      "  verification. Please open an issue if you find above cases.\n",
      "\n",
      "\u001b[0m\n",
      "\u001b[34m[0]#011train-rmse:22137924.00000#011validation-rmse:22395954.00000\u001b[0m\n",
      "\u001b[34m[1]#011train-rmse:18572730.00000#011validation-rmse:18848884.00000\u001b[0m\n",
      "\u001b[34m[2]#011train-rmse:15812417.00000#011validation-rmse:16140891.00000\u001b[0m\n",
      "\u001b[34m[3]#011train-rmse:13533960.00000#011validation-rmse:13974554.00000\u001b[0m\n",
      "\u001b[34m[4]#011train-rmse:11807144.00000#011validation-rmse:12280296.00000\u001b[0m\n",
      "\u001b[34m[5]#011train-rmse:10415778.00000#011validation-rmse:11062186.00000\u001b[0m\n",
      "\u001b[34m[6]#011train-rmse:9244095.00000#011validation-rmse:10048220.00000\u001b[0m\n",
      "\u001b[34m[7]#011train-rmse:8410827.00000#011validation-rmse:9334012.00000\u001b[0m\n",
      "\u001b[34m[8]#011train-rmse:7707679.00000#011validation-rmse:8695506.00000\u001b[0m\n",
      "\u001b[34m[9]#011train-rmse:7138292.50000#011validation-rmse:8294770.00000\u001b[0m\n",
      "\u001b[34m[10]#011train-rmse:6787910.00000#011validation-rmse:8051144.50000\u001b[0m\n",
      "\u001b[34m[11]#011train-rmse:6545081.00000#011validation-rmse:7884664.50000\u001b[0m\n",
      "\u001b[34m[12]#011train-rmse:6159546.00000#011validation-rmse:7610022.50000\u001b[0m\n",
      "\u001b[34m[13]#011train-rmse:5804360.50000#011validation-rmse:7384980.50000\u001b[0m\n",
      "\u001b[34m[14]#011train-rmse:5627096.00000#011validation-rmse:7270517.50000\u001b[0m\n",
      "\u001b[34m[15]#011train-rmse:5334002.00000#011validation-rmse:7069717.50000\u001b[0m\n",
      "\u001b[34m[16]#011train-rmse:5097733.00000#011validation-rmse:6904228.50000\u001b[0m\n",
      "\u001b[34m[17]#011train-rmse:4915760.50000#011validation-rmse:6828257.00000\u001b[0m\n",
      "\u001b[34m[18]#011train-rmse:4716371.50000#011validation-rmse:6714882.00000\u001b[0m\n",
      "\u001b[34m[19]#011train-rmse:4624529.50000#011validation-rmse:6643322.00000\u001b[0m\n",
      "\u001b[34m[20]#011train-rmse:4528646.00000#011validation-rmse:6582507.00000\u001b[0m\n",
      "\u001b[34m[21]#011train-rmse:4387950.00000#011validation-rmse:6550881.00000\u001b[0m\n",
      "\u001b[34m[22]#011train-rmse:4313572.50000#011validation-rmse:6537561.50000\u001b[0m\n",
      "\u001b[34m[23]#011train-rmse:4136986.50000#011validation-rmse:6454048.00000\u001b[0m\n",
      "\u001b[34m[24]#011train-rmse:4081861.75000#011validation-rmse:6438408.50000\u001b[0m\n",
      "\u001b[34m[25]#011train-rmse:4005323.00000#011validation-rmse:6410945.00000\u001b[0m\n",
      "\u001b[34m[26]#011train-rmse:3957299.75000#011validation-rmse:6405718.50000\u001b[0m\n",
      "\u001b[34m[27]#011train-rmse:3838548.50000#011validation-rmse:6339430.50000\u001b[0m\n",
      "\u001b[34m[28]#011train-rmse:3735304.25000#011validation-rmse:6351480.50000\u001b[0m\n",
      "\u001b[34m[29]#011train-rmse:3660690.25000#011validation-rmse:6341310.00000\u001b[0m\n",
      "\u001b[34m[30]#011train-rmse:3584458.50000#011validation-rmse:6346295.50000\u001b[0m\n",
      "\u001b[34m[31]#011train-rmse:3503982.75000#011validation-rmse:6323999.00000\u001b[0m\n",
      "\u001b[34m[32]#011train-rmse:3451133.50000#011validation-rmse:6298141.50000\u001b[0m\n",
      "\u001b[34m[33]#011train-rmse:3344434.00000#011validation-rmse:6281963.00000\u001b[0m\n",
      "\u001b[34m[34]#011train-rmse:3254862.00000#011validation-rmse:6259006.50000\u001b[0m\n",
      "\u001b[34m[35]#011train-rmse:3166450.50000#011validation-rmse:6236802.50000\u001b[0m\n",
      "\u001b[34m[36]#011train-rmse:3115828.50000#011validation-rmse:6221897.50000\u001b[0m\n",
      "\u001b[34m[37]#011train-rmse:3072227.75000#011validation-rmse:6203487.50000\u001b[0m\n",
      "\u001b[34m[38]#011train-rmse:3010728.50000#011validation-rmse:6181259.50000\u001b[0m\n",
      "\u001b[34m[39]#011train-rmse:2986378.75000#011validation-rmse:6188988.50000\u001b[0m\n",
      "\u001b[34m[40]#011train-rmse:2960556.50000#011validation-rmse:6201065.50000\u001b[0m\n",
      "\u001b[34m[41]#011train-rmse:2896087.75000#011validation-rmse:6195550.50000\u001b[0m\n",
      "\u001b[34m[42]#011train-rmse:2845688.00000#011validation-rmse:6160954.00000\u001b[0m\n",
      "\u001b[34m[43]#011train-rmse:2799892.00000#011validation-rmse:6164918.50000\u001b[0m\n",
      "\u001b[34m[44]#011train-rmse:2744651.75000#011validation-rmse:6144029.50000\u001b[0m\n",
      "\u001b[34m[45]#011train-rmse:2703033.00000#011validation-rmse:6151728.50000\u001b[0m\n",
      "\u001b[34m[46]#011train-rmse:2675426.25000#011validation-rmse:6148311.50000\u001b[0m\n",
      "\u001b[34m[47]#011train-rmse:2609601.50000#011validation-rmse:6118554.50000\u001b[0m\n",
      "\u001b[34m[48]#011train-rmse:2561156.50000#011validation-rmse:6104312.50000\u001b[0m\n",
      "\u001b[34m[49]#011train-rmse:2502436.75000#011validation-rmse:6106291.50000\u001b[0m\n",
      "\u001b[34m[50]#011train-rmse:2461087.75000#011validation-rmse:6100705.00000\u001b[0m\n",
      "\u001b[34m[51]#011train-rmse:2416477.75000#011validation-rmse:6078437.00000\u001b[0m\n",
      "\u001b[34m[52]#011train-rmse:2405998.50000#011validation-rmse:6076813.50000\u001b[0m\n",
      "\u001b[34m[53]#011train-rmse:2353029.75000#011validation-rmse:6075896.50000\u001b[0m\n",
      "\u001b[34m[54]#011train-rmse:2322241.00000#011validation-rmse:6057117.50000\u001b[0m\n",
      "\u001b[34m[55]#011train-rmse:2285190.75000#011validation-rmse:6049322.50000\u001b[0m\n",
      "\u001b[34m[56]#011train-rmse:2261579.75000#011validation-rmse:6054786.50000\u001b[0m\n",
      "\u001b[34m[57]#011train-rmse:2242182.00000#011validation-rmse:6061061.00000\u001b[0m\n",
      "\u001b[34m[58]#011train-rmse:2177593.75000#011validation-rmse:6036921.00000\u001b[0m\n",
      "\u001b[34m[59]#011train-rmse:2129485.50000#011validation-rmse:6037116.00000\u001b[0m\n",
      "\u001b[34m[60]#011train-rmse:2106163.50000#011validation-rmse:6027015.00000\u001b[0m\n",
      "\u001b[34m[61]#011train-rmse:2082476.37500#011validation-rmse:6027147.00000\u001b[0m\n",
      "\u001b[34m[62]#011train-rmse:2057784.87500#011validation-rmse:6017758.50000\u001b[0m\n",
      "\u001b[34m[63]#011train-rmse:2017522.25000#011validation-rmse:6014487.00000\u001b[0m\n",
      "\u001b[34m[64]#011train-rmse:1979752.62500#011validation-rmse:6010865.50000\u001b[0m\n",
      "\u001b[34m[65]#011train-rmse:1953568.00000#011validation-rmse:5996056.00000\u001b[0m\n",
      "\u001b[34m[66]#011train-rmse:1925637.37500#011validation-rmse:6002031.00000\u001b[0m\n",
      "\u001b[34m[67]#011train-rmse:1893521.75000#011validation-rmse:5999017.50000\u001b[0m\n",
      "\u001b[34m[68]#011train-rmse:1870698.25000#011validation-rmse:5991796.00000\u001b[0m\n",
      "\u001b[34m[69]#011train-rmse:1853752.37500#011validation-rmse:5987381.50000\u001b[0m\n",
      "\u001b[34m[70]#011train-rmse:1814377.00000#011validation-rmse:5989475.50000\u001b[0m\n",
      "\u001b[34m[71]#011train-rmse:1778287.62500#011validation-rmse:5991669.50000\u001b[0m\n",
      "\u001b[34m[72]#011train-rmse:1748256.87500#011validation-rmse:5988669.50000\u001b[0m\n",
      "\u001b[34m[73]#011train-rmse:1712344.62500#011validation-rmse:5975329.00000\u001b[0m\n",
      "\u001b[34m[74]#011train-rmse:1676247.62500#011validation-rmse:5967149.50000\u001b[0m\n",
      "\u001b[34m[75]#011train-rmse:1668506.00000#011validation-rmse:5970036.50000\u001b[0m\n",
      "\u001b[34m[76]#011train-rmse:1648720.87500#011validation-rmse:5971279.50000\u001b[0m\n",
      "\u001b[34m[77]#011train-rmse:1628134.00000#011validation-rmse:5976150.50000\u001b[0m\n",
      "\u001b[34m[78]#011train-rmse:1608229.87500#011validation-rmse:5964332.50000\u001b[0m\n",
      "\u001b[34m[79]#011train-rmse:1601030.25000#011validation-rmse:5963503.00000\u001b[0m\n",
      "\u001b[34m[80]#011train-rmse:1577637.62500#011validation-rmse:5959823.00000\u001b[0m\n",
      "\u001b[34m[81]#011train-rmse:1556740.50000#011validation-rmse:5957918.00000\u001b[0m\n",
      "\u001b[34m[82]#011train-rmse:1525533.75000#011validation-rmse:5955302.00000\u001b[0m\n",
      "\u001b[34m[83]#011train-rmse:1517306.62500#011validation-rmse:5956159.50000\u001b[0m\n",
      "\u001b[34m[84]#011train-rmse:1503689.50000#011validation-rmse:5951754.00000\u001b[0m\n",
      "\u001b[34m[85]#011train-rmse:1474191.50000#011validation-rmse:5947213.00000\u001b[0m\n",
      "\u001b[34m[86]#011train-rmse:1454438.00000#011validation-rmse:5945289.00000\u001b[0m\n",
      "\u001b[34m[87]#011train-rmse:1428362.75000#011validation-rmse:5936699.00000\u001b[0m\n",
      "\u001b[34m[88]#011train-rmse:1406946.87500#011validation-rmse:5932984.00000\u001b[0m\n",
      "\u001b[34m[89]#011train-rmse:1387907.75000#011validation-rmse:5932200.00000\u001b[0m\n",
      "\u001b[34m[90]#011train-rmse:1364820.62500#011validation-rmse:5934102.00000\u001b[0m\n",
      "\u001b[34m[91]#011train-rmse:1356931.37500#011validation-rmse:5933033.00000\u001b[0m\n",
      "\u001b[34m[92]#011train-rmse:1339979.25000#011validation-rmse:5931828.50000\u001b[0m\n",
      "\u001b[34m[93]#011train-rmse:1324058.37500#011validation-rmse:5927076.50000\u001b[0m\n",
      "\u001b[34m[94]#011train-rmse:1307101.75000#011validation-rmse:5924103.00000\u001b[0m\n",
      "\u001b[34m[95]#011train-rmse:1281608.87500#011validation-rmse:5918910.50000\u001b[0m\n",
      "\u001b[34m[96]#011train-rmse:1258775.00000#011validation-rmse:5923406.00000\u001b[0m\n",
      "\u001b[34m[97]#011train-rmse:1246934.00000#011validation-rmse:5919357.50000\u001b[0m\n",
      "\u001b[34m[98]#011train-rmse:1225366.62500#011validation-rmse:5913848.50000\u001b[0m\n",
      "\u001b[34m[99]#011train-rmse:1205167.62500#011validation-rmse:5910422.50000\u001b[0m\n",
      "\u001b[34m[100]#011train-rmse:1189843.00000#011validation-rmse:5910685.50000\u001b[0m\n",
      "\u001b[34m[101]#011train-rmse:1174701.25000#011validation-rmse:5907272.50000\u001b[0m\n",
      "\u001b[34m[102]#011train-rmse:1169595.87500#011validation-rmse:5906883.50000\u001b[0m\n",
      "\u001b[34m[103]#011train-rmse:1157737.12500#011validation-rmse:5908628.00000\u001b[0m\n",
      "\u001b[34m[104]#011train-rmse:1143636.87500#011validation-rmse:5910517.50000\u001b[0m\n",
      "\u001b[34m[105]#011train-rmse:1138312.12500#011validation-rmse:5910765.50000\u001b[0m\n",
      "\u001b[34m[106]#011train-rmse:1130840.12500#011validation-rmse:5911741.50000\u001b[0m\n",
      "\u001b[34m[107]#011train-rmse:1112597.37500#011validation-rmse:5914044.50000\u001b[0m\n",
      "\u001b[34m[108]#011train-rmse:1100526.12500#011validation-rmse:5913982.50000\u001b[0m\n",
      "\u001b[34m[109]#011train-rmse:1098034.37500#011validation-rmse:5914074.00000\u001b[0m\n",
      "\u001b[34m[110]#011train-rmse:1081443.37500#011validation-rmse:5912874.50000\u001b[0m\n",
      "\u001b[34m[111]#011train-rmse:1067900.12500#011validation-rmse:5915285.00000\u001b[0m\n",
      "\u001b[34m[112]#011train-rmse:1046174.12500#011validation-rmse:5910921.50000\u001b[0m\n",
      "\u001b[34m[20:58:08] WARNING: ../src/objective/regression_obj.cu:174: reg:linear is now deprecated in favor of reg:squarederror.\u001b[0m\n",
      "\n",
      "2020-12-15 20:58:31 Completed - Training job completed\n",
      "Training seconds: 77\n",
      "Billable seconds: 77\n"
     ]
    }
   ],
   "source": [
    "xgb.fit({'train': s3_input_train, 'validation': s3_input_validation})"
   ]
  },
  {
   "cell_type": "code",
   "execution_count": 21,
   "metadata": {},
   "outputs": [],
   "source": [
    "xgb_transformer = xgb.transformer(instance_count = 1, instance_type = 'ml.m4.xlarge')"
   ]
  },
  {
   "cell_type": "code",
   "execution_count": 22,
   "metadata": {},
   "outputs": [
    {
     "name": "stdout",
     "output_type": "stream",
     "text": [
      "................................\u001b[34m[2020-12-15:21:04:36:INFO] No GPUs detected (normal if no gpus installed)\u001b[0m\n",
      "\u001b[34m[2020-12-15:21:04:36:INFO] No GPUs detected (normal if no gpus installed)\u001b[0m\n",
      "\u001b[34m[2020-12-15:21:04:36:INFO] nginx config: \u001b[0m\n",
      "\u001b[34mworker_processes auto;\u001b[0m\n",
      "\u001b[34mdaemon off;\u001b[0m\n",
      "\u001b[34mpid /tmp/nginx.pid;\u001b[0m\n",
      "\u001b[34merror_log  /dev/stderr;\n",
      "\u001b[0m\n",
      "\u001b[34mworker_rlimit_nofile 4096;\n",
      "\u001b[0m\n",
      "\u001b[34mevents {\n",
      "  worker_connections 2048;\u001b[0m\n",
      "\u001b[34m}\n",
      "\u001b[0m\n",
      "\u001b[34mhttp {\n",
      "  include /etc/nginx/mime.types;\n",
      "  default_type application/octet-stream;\n",
      "  access_log /dev/stdout combined;\n",
      "\n",
      "  upstream gunicorn {\n",
      "    server unix:/tmp/gunicorn.sock;\n",
      "  }\n",
      "\n",
      "  server {\n",
      "    listen 8080 deferred;\n",
      "    client_max_body_size 0;\n",
      "\n",
      "    keepalive_timeout 3;\n",
      "\n",
      "    location ~ ^/(ping|invocations|execution-parameters) {\n",
      "      proxy_set_header X-Forwarded-For $proxy_add_x_forwarded_for;\n",
      "      proxy_set_header Host $http_host;\n",
      "      proxy_redirect off;\n",
      "      proxy_read_timeout 60s;\n",
      "      proxy_pass http://gunicorn;\n",
      "    }\n",
      "\n",
      "    location / {\n",
      "      return 404 \"{}\";\n",
      "    }\n",
      "\n",
      "  }\u001b[0m\n",
      "\u001b[34m}\n",
      "\n",
      "\u001b[0m\n",
      "\u001b[34m2020/12/15 21:04:36 [crit] 18#18: *1 connect() to unix:/tmp/gunicorn.sock failed (2: No such file or directory) while connecting to upstream, client: 169.254.255.130, server: , request: \"GET /ping HTTP/1.1\", upstream: \"http://unix:/tmp/gunicorn.sock:/ping\", host: \"169.254.255.131:8080\"\u001b[0m\n",
      "\u001b[34m169.254.255.130 - - [15/Dec/2020:21:04:36 +0000] \"GET /ping HTTP/1.1\" 502 182 \"-\" \"Go-http-client/1.1\"\u001b[0m\n",
      "\u001b[34m2020/12/15 21:04:36 [crit] 18#18: *3 connect() to unix:/tmp/gunicorn.sock failed (2: No such file or directory) while connecting to upstream, client: 169.254.255.130, server: , request: \"GET /ping HTTP/1.1\", upstream: \"http://unix:/tmp/gunicorn.sock:/ping\", host: \"169.254.255.131:8080\"\u001b[0m\n",
      "\u001b[34m169.254.255.130 - - [15/Dec/2020:21:04:36 +0000] \"GET /ping HTTP/1.1\" 502 182 \"-\" \"Go-http-client/1.1\"\u001b[0m\n",
      "\u001b[34m[2020-12-15 21:04:36 +0000] [17] [INFO] Starting gunicorn 19.10.0\u001b[0m\n",
      "\u001b[34m[2020-12-15 21:04:36 +0000] [17] [INFO] Listening at: unix:/tmp/gunicorn.sock (17)\u001b[0m\n",
      "\u001b[34m[2020-12-15 21:04:36 +0000] [17] [INFO] Using worker: gevent\u001b[0m\n",
      "\u001b[34m[2020-12-15 21:04:36 +0000] [24] [INFO] Booting worker with pid: 24\u001b[0m\n",
      "\u001b[34m[2020-12-15 21:04:36 +0000] [25] [INFO] Booting worker with pid: 25\u001b[0m\n",
      "\u001b[34m[2020-12-15 21:04:36 +0000] [26] [INFO] Booting worker with pid: 26\u001b[0m\n",
      "\u001b[34m[2020-12-15 21:04:36 +0000] [27] [INFO] Booting worker with pid: 27\u001b[0m\n",
      "\u001b[34m[2020-12-15:21:04:38:INFO] No GPUs detected (normal if no gpus installed)\u001b[0m\n",
      "\u001b[34m169.254.255.130 - - [15/Dec/2020:21:04:38 +0000] \"GET /ping HTTP/1.1\" 200 0 \"-\" \"Go-http-client/1.1\"\u001b[0m\n",
      "\u001b[34m169.254.255.130 - - [15/Dec/2020:21:04:38 +0000] \"GET /execution-parameters HTTP/1.1\" 200 84 \"-\" \"Go-http-client/1.1\"\u001b[0m\n",
      "\u001b[34m[2020-12-15:21:04:38:INFO] Determined delimiter of CSV input is ','\u001b[0m\n",
      "\u001b[34m[21:04:39] WARNING: ../src/objective/regression_obj.cu:174: reg:linear is now deprecated in favor of reg:squarederror.\u001b[0m\n",
      "\u001b[34m169.254.255.130 - - [15/Dec/2020:21:04:39 +0000] \"POST /invocations HTTP/1.1\" 200 9661 \"-\" \"Go-http-client/1.1\"\u001b[0m\n",
      "\n",
      "\u001b[32m2020-12-15T21:04:38.763:[sagemaker logs]: MaxConcurrentTransforms=4, MaxPayloadInMB=6, BatchStrategy=MULTI_RECORD\u001b[0m\n"
     ]
    }
   ],
   "source": [
    "xgb_transformer.transform(test_location, content_type='text/csv', split_type='Line')"
   ]
  },
  {
   "cell_type": "code",
   "execution_count": 23,
   "metadata": {},
   "outputs": [
    {
     "name": "stdout",
     "output_type": "stream",
     "text": [
      "download: s3://sagemaker-us-west-1-428239323951/sagemaker-xgboost-2020-12-15-20-59-24-440/test.csv.out to ../data/volcano/test.csv.out\n"
     ]
    }
   ],
   "source": [
    "!aws s3 cp --recursive $xgb_transformer.output_path $data_dir"
   ]
  },
  {
   "cell_type": "code",
   "execution_count": 24,
   "metadata": {},
   "outputs": [],
   "source": [
    "Y_pred = pd.read_csv(os.path.join(data_dir, 'test.csv.out'), header=None)"
   ]
  },
  {
   "cell_type": "code",
   "execution_count": 25,
   "metadata": {},
   "outputs": [
    {
     "data": {
      "text/plain": [
       "4564464.419884442"
      ]
     },
     "execution_count": 25,
     "metadata": {},
     "output_type": "execute_result"
    }
   ],
   "source": [
    "from sklearn.metrics import mean_absolute_error\n",
    "mean_absolute_error(Y_test, Y_pred)"
   ]
  },
  {
   "cell_type": "code",
   "execution_count": 27,
   "metadata": {},
   "outputs": [
    {
     "name": "stdout",
     "output_type": "stream",
     "text": [
      "---------------!"
     ]
    }
   ],
   "source": [
    "xgb_predictor = xgb.deploy(initial_instance_count=1, instance_type='ml.m4.xlarge')"
   ]
  },
  {
   "cell_type": "code",
   "execution_count": 29,
   "metadata": {},
   "outputs": [],
   "source": [
    "xgb_predictor.serializer = csv_serializer"
   ]
  },
  {
   "cell_type": "code",
   "execution_count": 30,
   "metadata": {},
   "outputs": [],
   "source": [
    "def predict(data, rows=500):\n",
    "    split_array = np.array_split(data, int(data.shape[0] / float(rows) + 1))\n",
    "    predictions = ''\n",
    "    for array in split_array:\n",
    "        predictions = ','.join([predictions, xgb_predictor.predict(array).decode('utf-8')])\n",
    "\n",
    "    return np.fromstring(predictions[1:], sep=',')"
   ]
  },
  {
   "cell_type": "code",
   "execution_count": 31,
   "metadata": {},
   "outputs": [
    {
     "name": "stderr",
     "output_type": "stream",
     "text": [
      "The csv_serializer has been renamed in sagemaker>=2.\n",
      "See: https://sagemaker.readthedocs.io/en/stable/v2.html for details.\n",
      "The csv_serializer has been renamed in sagemaker>=2.\n",
      "See: https://sagemaker.readthedocs.io/en/stable/v2.html for details.\n",
      "The csv_serializer has been renamed in sagemaker>=2.\n",
      "See: https://sagemaker.readthedocs.io/en/stable/v2.html for details.\n",
      "The csv_serializer has been renamed in sagemaker>=2.\n",
      "See: https://sagemaker.readthedocs.io/en/stable/v2.html for details.\n",
      "The csv_serializer has been renamed in sagemaker>=2.\n",
      "See: https://sagemaker.readthedocs.io/en/stable/v2.html for details.\n",
      "The csv_serializer has been renamed in sagemaker>=2.\n",
      "See: https://sagemaker.readthedocs.io/en/stable/v2.html for details.\n",
      "The csv_serializer has been renamed in sagemaker>=2.\n",
      "See: https://sagemaker.readthedocs.io/en/stable/v2.html for details.\n",
      "The csv_serializer has been renamed in sagemaker>=2.\n",
      "See: https://sagemaker.readthedocs.io/en/stable/v2.html for details.\n",
      "The csv_serializer has been renamed in sagemaker>=2.\n",
      "See: https://sagemaker.readthedocs.io/en/stable/v2.html for details.\n",
      "The csv_serializer has been renamed in sagemaker>=2.\n",
      "See: https://sagemaker.readthedocs.io/en/stable/v2.html for details.\n"
     ]
    }
   ],
   "source": [
    "submit = pd.DataFrame(predict(test.drop(columns=[\"segment_id\"]).values),\n",
    "                      index=test[\"segment_id\"],\n",
    "                      columns=[\"time_to_eruption\"],\n",
    "                      dtype=\"int\")\n",
    "submit.clip(lower=0,inplace=True)\n",
    "\n",
    "submit.to_csv(\"submission.csv\")"
   ]
  },
  {
   "cell_type": "markdown",
   "metadata": {},
   "source": [
    "Using the deployed model on the test submission data from the competition, I was able to score 7284365 MAE and rank in the top 67% of the participants."
   ]
  },
  {
   "cell_type": "markdown",
   "metadata": {},
   "source": [
    "Let's try with hyperparameter tuning"
   ]
  },
  {
   "cell_type": "code",
   "execution_count": 37,
   "metadata": {},
   "outputs": [],
   "source": [
    "from sagemaker.tuner import IntegerParameter, ContinuousParameter, HyperparameterTuner"
   ]
  },
  {
   "cell_type": "code",
   "execution_count": 230,
   "metadata": {},
   "outputs": [],
   "source": [
    "xgb_hyperparameter_tuner = HyperparameterTuner(estimator = xgb, # The estimator object to use as the basis for the training jobs.\n",
    "                                               objective_metric_name = 'validation:mae', # The metric used to compare trained models.\n",
    "                                               objective_type = 'Minimize', # Whether we wish to minimize or maximize the metric.\n",
    "                                               max_jobs = 20, # The total number of models to train\n",
    "                                               max_parallel_jobs = 3, # The number of models to train in parallel\n",
    "                                               hyperparameter_ranges = {\n",
    "                                                    'max_depth': IntegerParameter(3, 12),\n",
    "                                                    'eta'      : ContinuousParameter(0.05, 0.5),\n",
    "                                                    'min_child_weight': IntegerParameter(2, 8),\n",
    "                                                    'subsample': ContinuousParameter(0.5, 0.9),\n",
    "                                                    'gamma': ContinuousParameter(0, 10),\n",
    "                                               })"
   ]
  },
  {
   "cell_type": "code",
   "execution_count": 231,
   "metadata": {},
   "outputs": [
    {
     "name": "stdout",
     "output_type": "stream",
     "text": [
      ".........................................................................................................................................................................................................................................................................................................................................................................................!\n"
     ]
    }
   ],
   "source": [
    "xgb_hyperparameter_tuner.fit({'train': s3_input_train, 'validation': s3_input_validation})"
   ]
  },
  {
   "cell_type": "code",
   "execution_count": 232,
   "metadata": {},
   "outputs": [
    {
     "data": {
      "text/plain": [
       "'sagemaker-xgboost-201215-0457-013-4b1bc726'"
      ]
     },
     "execution_count": 232,
     "metadata": {},
     "output_type": "execute_result"
    }
   ],
   "source": [
    "xgb_hyperparameter_tuner.best_training_job()"
   ]
  },
  {
   "cell_type": "code",
   "execution_count": 233,
   "metadata": {},
   "outputs": [
    {
     "name": "stdout",
     "output_type": "stream",
     "text": [
      "\n",
      "2020-12-15 05:19:20 Starting - Preparing the instances for training\n",
      "2020-12-15 05:19:20 Downloading - Downloading input data\n",
      "2020-12-15 05:19:20 Training - Training image download completed. Training in progress.\n",
      "2020-12-15 05:19:20 Uploading - Uploading generated training model\n",
      "2020-12-15 05:19:20 Completed - Training job completed\n"
     ]
    }
   ],
   "source": [
    "xgb_attached = sagemaker.estimator.Estimator.attach(xgb_hyperparameter_tuner.best_training_job())"
   ]
  },
  {
   "cell_type": "code",
   "execution_count": 234,
   "metadata": {},
   "outputs": [],
   "source": [
    "xgb_transformer = xgb_attached.transformer(instance_count = 1, instance_type = 'ml.m4.xlarge')"
   ]
  },
  {
   "cell_type": "code",
   "execution_count": 235,
   "metadata": {},
   "outputs": [
    {
     "name": "stdout",
     "output_type": "stream",
     "text": [
      "................................\u001b[34m[2020-12-15:05:37:02:INFO] No GPUs detected (normal if no gpus installed)\u001b[0m\n",
      "\u001b[34m[2020-12-15:05:37:02:INFO] No GPUs detected (normal if no gpus installed)\u001b[0m\n",
      "\u001b[34m[2020-12-15:05:37:02:INFO] nginx config: \u001b[0m\n",
      "\u001b[34mworker_processes auto;\u001b[0m\n",
      "\u001b[34mdaemon off;\u001b[0m\n",
      "\u001b[34mpid /tmp/nginx.pid;\u001b[0m\n",
      "\u001b[34merror_log  /dev/stderr;\n",
      "\u001b[0m\n",
      "\u001b[34mworker_rlimit_nofile 4096;\n",
      "\u001b[0m\n",
      "\u001b[34mevents {\n",
      "  worker_connections 2048;\u001b[0m\n",
      "\u001b[34m}\n",
      "\u001b[0m\n",
      "\u001b[35m[2020-12-15:05:37:02:INFO] No GPUs detected (normal if no gpus installed)\u001b[0m\n",
      "\u001b[35m[2020-12-15:05:37:02:INFO] No GPUs detected (normal if no gpus installed)\u001b[0m\n",
      "\u001b[35m[2020-12-15:05:37:02:INFO] nginx config: \u001b[0m\n",
      "\u001b[35mworker_processes auto;\u001b[0m\n",
      "\u001b[35mdaemon off;\u001b[0m\n",
      "\u001b[35mpid /tmp/nginx.pid;\u001b[0m\n",
      "\u001b[35merror_log  /dev/stderr;\n",
      "\u001b[0m\n",
      "\u001b[35mworker_rlimit_nofile 4096;\n",
      "\u001b[0m\n",
      "\u001b[35mevents {\n",
      "  worker_connections 2048;\u001b[0m\n",
      "\u001b[35m}\n",
      "\u001b[0m\n",
      "\u001b[34mhttp {\n",
      "  include /etc/nginx/mime.types;\n",
      "  default_type application/octet-stream;\n",
      "  access_log /dev/stdout combined;\n",
      "\n",
      "  upstream gunicorn {\n",
      "    server unix:/tmp/gunicorn.sock;\n",
      "  }\n",
      "\n",
      "  server {\n",
      "    listen 8080 deferred;\n",
      "    client_max_body_size 0;\n",
      "\n",
      "    keepalive_timeout 3;\n",
      "\n",
      "    location ~ ^/(ping|invocations|execution-parameters) {\n",
      "      proxy_set_header X-Forwarded-For $proxy_add_x_forwarded_for;\n",
      "      proxy_set_header Host $http_host;\n",
      "      proxy_redirect off;\n",
      "      proxy_read_timeout 60s;\n",
      "      proxy_pass http://gunicorn;\n",
      "    }\n",
      "\n",
      "    location / {\n",
      "      return 404 \"{}\";\n",
      "    }\n",
      "\n",
      "  }\u001b[0m\n",
      "\u001b[34m}\n",
      "\n",
      "\u001b[0m\n",
      "\u001b[34m2020/12/15 05:37:02 [crit] 19#19: *1 connect() to unix:/tmp/gunicorn.sock failed (2: No such file or directory) while connecting to upstream, client: 169.254.255.130, server: , request: \"GET /ping HTTP/1.1\", upstream: \"http://unix:/tmp/gunicorn.sock:/ping\", host: \"169.254.255.131:8080\"\u001b[0m\n",
      "\u001b[34m169.254.255.130 - - [15/Dec/2020:05:37:02 +0000] \"GET /ping HTTP/1.1\" 502 182 \"-\" \"Go-http-client/1.1\"\u001b[0m\n",
      "\u001b[34m2020/12/15 05:37:02 [crit] 19#19: *3 connect() to unix:/tmp/gunicorn.sock failed (2: No such file or directory) while connecting to upstream, client: 169.254.255.130, server: , request: \"GET /ping HTTP/1.1\", upstream: \"http://unix:/tmp/gunicorn.sock:/ping\", host: \"169.254.255.131:8080\"\u001b[0m\n",
      "\u001b[34m169.254.255.130 - - [15/Dec/2020:05:37:02 +0000] \"GET /ping HTTP/1.1\" 502 182 \"-\" \"Go-http-client/1.1\"\u001b[0m\n",
      "\u001b[34m[2020-12-15 05:37:02 +0000] [17] [INFO] Starting gunicorn 19.10.0\u001b[0m\n",
      "\u001b[34m[2020-12-15 05:37:02 +0000] [17] [INFO] Listening at: unix:/tmp/gunicorn.sock (17)\u001b[0m\n",
      "\u001b[34m[2020-12-15 05:37:02 +0000] [17] [INFO] Using worker: gevent\u001b[0m\n",
      "\u001b[34m[2020-12-15 05:37:02 +0000] [24] [INFO] Booting worker with pid: 24\u001b[0m\n",
      "\u001b[35mhttp {\n",
      "  include /etc/nginx/mime.types;\n",
      "  default_type application/octet-stream;\n",
      "  access_log /dev/stdout combined;\n",
      "\n",
      "  upstream gunicorn {\n",
      "    server unix:/tmp/gunicorn.sock;\n",
      "  }\n",
      "\n",
      "  server {\n",
      "    listen 8080 deferred;\n",
      "    client_max_body_size 0;\n",
      "\n",
      "    keepalive_timeout 3;\n",
      "\n",
      "    location ~ ^/(ping|invocations|execution-parameters) {\n",
      "      proxy_set_header X-Forwarded-For $proxy_add_x_forwarded_for;\n",
      "      proxy_set_header Host $http_host;\n",
      "      proxy_redirect off;\n",
      "      proxy_read_timeout 60s;\n",
      "      proxy_pass http://gunicorn;\n",
      "    }\n",
      "\n",
      "    location / {\n",
      "      return 404 \"{}\";\n",
      "    }\n",
      "\n",
      "  }\u001b[0m\n",
      "\u001b[35m}\n",
      "\n",
      "\u001b[0m\n",
      "\u001b[35m2020/12/15 05:37:02 [crit] 19#19: *1 connect() to unix:/tmp/gunicorn.sock failed (2: No such file or directory) while connecting to upstream, client: 169.254.255.130, server: , request: \"GET /ping HTTP/1.1\", upstream: \"http://unix:/tmp/gunicorn.sock:/ping\", host: \"169.254.255.131:8080\"\u001b[0m\n",
      "\u001b[35m169.254.255.130 - - [15/Dec/2020:05:37:02 +0000] \"GET /ping HTTP/1.1\" 502 182 \"-\" \"Go-http-client/1.1\"\u001b[0m\n",
      "\u001b[35m2020/12/15 05:37:02 [crit] 19#19: *3 connect() to unix:/tmp/gunicorn.sock failed (2: No such file or directory) while connecting to upstream, client: 169.254.255.130, server: , request: \"GET /ping HTTP/1.1\", upstream: \"http://unix:/tmp/gunicorn.sock:/ping\", host: \"169.254.255.131:8080\"\u001b[0m\n",
      "\u001b[35m169.254.255.130 - - [15/Dec/2020:05:37:02 +0000] \"GET /ping HTTP/1.1\" 502 182 \"-\" \"Go-http-client/1.1\"\u001b[0m\n",
      "\u001b[35m[2020-12-15 05:37:02 +0000] [17] [INFO] Starting gunicorn 19.10.0\u001b[0m\n",
      "\u001b[35m[2020-12-15 05:37:02 +0000] [17] [INFO] Listening at: unix:/tmp/gunicorn.sock (17)\u001b[0m\n",
      "\u001b[35m[2020-12-15 05:37:02 +0000] [17] [INFO] Using worker: gevent\u001b[0m\n",
      "\u001b[35m[2020-12-15 05:37:02 +0000] [24] [INFO] Booting worker with pid: 24\u001b[0m\n",
      "\u001b[34m[2020-12-15 05:37:02 +0000] [25] [INFO] Booting worker with pid: 25\u001b[0m\n",
      "\u001b[34m[2020-12-15 05:37:02 +0000] [26] [INFO] Booting worker with pid: 26\u001b[0m\n",
      "\u001b[34m[2020-12-15 05:37:02 +0000] [33] [INFO] Booting worker with pid: 33\u001b[0m\n",
      "\u001b[35m[2020-12-15 05:37:02 +0000] [25] [INFO] Booting worker with pid: 25\u001b[0m\n",
      "\u001b[35m[2020-12-15 05:37:02 +0000] [26] [INFO] Booting worker with pid: 26\u001b[0m\n",
      "\u001b[35m[2020-12-15 05:37:02 +0000] [33] [INFO] Booting worker with pid: 33\u001b[0m\n",
      "\u001b[34m[2020-12-15:05:37:04:INFO] No GPUs detected (normal if no gpus installed)\u001b[0m\n",
      "\u001b[34m169.254.255.130 - - [15/Dec/2020:05:37:04 +0000] \"GET /ping HTTP/1.1\" 200 0 \"-\" \"Go-http-client/1.1\"\u001b[0m\n",
      "\u001b[34m169.254.255.130 - - [15/Dec/2020:05:37:04 +0000] \"GET /execution-parameters HTTP/1.1\" 200 84 \"-\" \"Go-http-client/1.1\"\u001b[0m\n",
      "\u001b[35m[2020-12-15:05:37:04:INFO] No GPUs detected (normal if no gpus installed)\u001b[0m\n",
      "\u001b[35m169.254.255.130 - - [15/Dec/2020:05:37:04 +0000] \"GET /ping HTTP/1.1\" 200 0 \"-\" \"Go-http-client/1.1\"\u001b[0m\n",
      "\u001b[35m169.254.255.130 - - [15/Dec/2020:05:37:04 +0000] \"GET /execution-parameters HTTP/1.1\" 200 84 \"-\" \"Go-http-client/1.1\"\u001b[0m\n",
      "\u001b[34m[2020-12-15:05:37:04:INFO] No GPUs detected (normal if no gpus installed)\u001b[0m\n",
      "\u001b[34m[2020-12-15:05:37:04:INFO] Determined delimiter of CSV input is ','\u001b[0m\n",
      "\u001b[34m[05:37:05] WARNING: ../src/objective/regression_obj.cu:174: reg:linear is now deprecated in favor of reg:squarederror.\u001b[0m\n",
      "\u001b[34m169.254.255.130 - - [15/Dec/2020:05:37:05 +0000] \"POST /invocations HTTP/1.1\" 200 9659 \"-\" \"Go-http-client/1.1\"\u001b[0m\n",
      "\u001b[35m[2020-12-15:05:37:04:INFO] No GPUs detected (normal if no gpus installed)\u001b[0m\n",
      "\u001b[35m[2020-12-15:05:37:04:INFO] Determined delimiter of CSV input is ','\u001b[0m\n",
      "\u001b[35m[05:37:05] WARNING: ../src/objective/regression_obj.cu:174: reg:linear is now deprecated in favor of reg:squarederror.\u001b[0m\n",
      "\u001b[35m169.254.255.130 - - [15/Dec/2020:05:37:05 +0000] \"POST /invocations HTTP/1.1\" 200 9659 \"-\" \"Go-http-client/1.1\"\u001b[0m\n",
      "\n",
      "\u001b[32m2020-12-15T05:37:04.520:[sagemaker logs]: MaxConcurrentTransforms=4, MaxPayloadInMB=6, BatchStrategy=MULTI_RECORD\u001b[0m\n"
     ]
    }
   ],
   "source": [
    "xgb_transformer.transform(test_location, content_type='text/csv', split_type='Line')"
   ]
  },
  {
   "cell_type": "code",
   "execution_count": 240,
   "metadata": {},
   "outputs": [
    {
     "name": "stdout",
     "output_type": "stream",
     "text": [
      "---------------!"
     ]
    }
   ],
   "source": [
    "#with tuning\n",
    "xgb_predictor = xgb_attached.deploy(initial_instance_count=1, instance_type='ml.m4.xlarge')"
   ]
  },
  {
   "cell_type": "code",
   "execution_count": 243,
   "metadata": {},
   "outputs": [
    {
     "data": {
      "text/plain": [
       "(4520,)"
      ]
     },
     "execution_count": 243,
     "metadata": {},
     "output_type": "execute_result"
    }
   ],
   "source": [
    "predictions.shape"
   ]
  },
  {
   "cell_type": "code",
   "execution_count": 245,
   "metadata": {},
   "outputs": [
    {
     "name": "stderr",
     "output_type": "stream",
     "text": [
      "The csv_serializer has been renamed in sagemaker>=2.\n",
      "See: https://sagemaker.readthedocs.io/en/stable/v2.html for details.\n",
      "The csv_serializer has been renamed in sagemaker>=2.\n",
      "See: https://sagemaker.readthedocs.io/en/stable/v2.html for details.\n",
      "The csv_serializer has been renamed in sagemaker>=2.\n",
      "See: https://sagemaker.readthedocs.io/en/stable/v2.html for details.\n",
      "The csv_serializer has been renamed in sagemaker>=2.\n",
      "See: https://sagemaker.readthedocs.io/en/stable/v2.html for details.\n",
      "The csv_serializer has been renamed in sagemaker>=2.\n",
      "See: https://sagemaker.readthedocs.io/en/stable/v2.html for details.\n",
      "The csv_serializer has been renamed in sagemaker>=2.\n",
      "See: https://sagemaker.readthedocs.io/en/stable/v2.html for details.\n",
      "The csv_serializer has been renamed in sagemaker>=2.\n",
      "See: https://sagemaker.readthedocs.io/en/stable/v2.html for details.\n",
      "The csv_serializer has been renamed in sagemaker>=2.\n",
      "See: https://sagemaker.readthedocs.io/en/stable/v2.html for details.\n",
      "The csv_serializer has been renamed in sagemaker>=2.\n",
      "See: https://sagemaker.readthedocs.io/en/stable/v2.html for details.\n",
      "The csv_serializer has been renamed in sagemaker>=2.\n",
      "See: https://sagemaker.readthedocs.io/en/stable/v2.html for details.\n"
     ]
    },
    {
     "data": {
      "text/html": [
       "<div>\n",
       "<style scoped>\n",
       "    .dataframe tbody tr th:only-of-type {\n",
       "        vertical-align: middle;\n",
       "    }\n",
       "\n",
       "    .dataframe tbody tr th {\n",
       "        vertical-align: top;\n",
       "    }\n",
       "\n",
       "    .dataframe thead th {\n",
       "        text-align: right;\n",
       "    }\n",
       "</style>\n",
       "<table border=\"1\" class=\"dataframe\">\n",
       "  <thead>\n",
       "    <tr style=\"text-align: right;\">\n",
       "      <th></th>\n",
       "      <th>time_to_eruption</th>\n",
       "    </tr>\n",
       "    <tr>\n",
       "      <th>segment_id</th>\n",
       "      <th></th>\n",
       "    </tr>\n",
       "  </thead>\n",
       "  <tbody>\n",
       "    <tr>\n",
       "      <th>1000213997</th>\n",
       "      <td>18518574</td>\n",
       "    </tr>\n",
       "    <tr>\n",
       "      <th>100023368</th>\n",
       "      <td>36786112</td>\n",
       "    </tr>\n",
       "    <tr>\n",
       "      <th>1000488999</th>\n",
       "      <td>24943958</td>\n",
       "    </tr>\n",
       "    <tr>\n",
       "      <th>1001028887</th>\n",
       "      <td>28612706</td>\n",
       "    </tr>\n",
       "    <tr>\n",
       "      <th>1001857862</th>\n",
       "      <td>15425858</td>\n",
       "    </tr>\n",
       "    <tr>\n",
       "      <th>...</th>\n",
       "      <td>...</td>\n",
       "    </tr>\n",
       "    <tr>\n",
       "      <th>996704281</th>\n",
       "      <td>25581620</td>\n",
       "    </tr>\n",
       "    <tr>\n",
       "      <th>997630809</th>\n",
       "      <td>19247926</td>\n",
       "    </tr>\n",
       "    <tr>\n",
       "      <th>998072137</th>\n",
       "      <td>19276954</td>\n",
       "    </tr>\n",
       "    <tr>\n",
       "      <th>998136924</th>\n",
       "      <td>35053460</td>\n",
       "    </tr>\n",
       "    <tr>\n",
       "      <th>99975682</th>\n",
       "      <td>29721500</td>\n",
       "    </tr>\n",
       "  </tbody>\n",
       "</table>\n",
       "<p>4520 rows × 1 columns</p>\n",
       "</div>"
      ],
      "text/plain": [
       "            time_to_eruption\n",
       "segment_id                  \n",
       "1000213997          18518574\n",
       "100023368           36786112\n",
       "1000488999          24943958\n",
       "1001028887          28612706\n",
       "1001857862          15425858\n",
       "...                      ...\n",
       "996704281           25581620\n",
       "997630809           19247926\n",
       "998072137           19276954\n",
       "998136924           35053460\n",
       "99975682            29721500\n",
       "\n",
       "[4520 rows x 1 columns]"
      ]
     },
     "metadata": {},
     "output_type": "display_data"
    }
   ],
   "source": [
    "submit = pd.DataFrame(predict(test.drop(columns=[\"segment_id\"]).values),\n",
    "                      index=test[\"segment_id\"],\n",
    "                      columns=[\"time_to_eruption\"],\n",
    "                      dtype=\"int\")\n",
    "submit.clip(lower=0,inplace=True)\n",
    "\n",
    "display(submit)\n",
    "\n",
    "submit.to_csv(\"submission.csv\")"
   ]
  },
  {
   "cell_type": "markdown",
   "metadata": {},
   "source": [
    "Using the deployed model on the test submission data from the competition, I was able to score 5672930 MAE and rank in the top 35% of the participants which is a huge jump from the previous model without hyperparameter tuning."
   ]
  },
  {
   "cell_type": "code",
   "execution_count": 236,
   "metadata": {},
   "outputs": [
    {
     "name": "stdout",
     "output_type": "stream",
     "text": [
      "download: s3://sagemaker-us-west-1-428239323951/sagemaker-xgboost-2020-12-15-05-31-51-572/test.csv.out to ../data/volcano/test.csv.out\n"
     ]
    }
   ],
   "source": [
    "!aws s3 cp --recursive $xgb_transformer.output_path $data_dir"
   ]
  },
  {
   "cell_type": "code",
   "execution_count": 237,
   "metadata": {},
   "outputs": [],
   "source": [
    "Y_pred = pd.read_csv(os.path.join(data_dir, 'test.csv.out'), header=None)"
   ]
  },
  {
   "cell_type": "code",
   "execution_count": 238,
   "metadata": {},
   "outputs": [
    {
     "data": {
      "text/plain": [
       "3312358.1670307214"
      ]
     },
     "execution_count": 238,
     "metadata": {},
     "output_type": "execute_result"
    }
   ],
   "source": [
    "from sklearn.metrics import mean_absolute_error\n",
    "mean_absolute_error(Y_test, Y_pred)"
   ]
  },
  {
   "cell_type": "code",
   "execution_count": 239,
   "metadata": {},
   "outputs": [
    {
     "data": {
      "text/html": [
       "<div>\n",
       "<style scoped>\n",
       "    .dataframe tbody tr th:only-of-type {\n",
       "        vertical-align: middle;\n",
       "    }\n",
       "\n",
       "    .dataframe tbody tr th {\n",
       "        vertical-align: top;\n",
       "    }\n",
       "\n",
       "    .dataframe thead th {\n",
       "        text-align: right;\n",
       "    }\n",
       "</style>\n",
       "<table border=\"1\" class=\"dataframe\">\n",
       "  <thead>\n",
       "    <tr style=\"text-align: right;\">\n",
       "      <th></th>\n",
       "      <th>time_to_eruption</th>\n",
       "    </tr>\n",
       "  </thead>\n",
       "  <tbody>\n",
       "    <tr>\n",
       "      <th>730</th>\n",
       "      <td>44382960</td>\n",
       "    </tr>\n",
       "    <tr>\n",
       "      <th>600</th>\n",
       "      <td>37982622</td>\n",
       "    </tr>\n",
       "    <tr>\n",
       "      <th>662</th>\n",
       "      <td>1520211</td>\n",
       "    </tr>\n",
       "    <tr>\n",
       "      <th>3023</th>\n",
       "      <td>41919713</td>\n",
       "    </tr>\n",
       "    <tr>\n",
       "      <th>1661</th>\n",
       "      <td>9631599</td>\n",
       "    </tr>\n",
       "    <tr>\n",
       "      <th>...</th>\n",
       "      <td>...</td>\n",
       "    </tr>\n",
       "    <tr>\n",
       "      <th>1093</th>\n",
       "      <td>34500541</td>\n",
       "    </tr>\n",
       "    <tr>\n",
       "      <th>3346</th>\n",
       "      <td>7642741</td>\n",
       "    </tr>\n",
       "    <tr>\n",
       "      <th>942</th>\n",
       "      <td>33464579</td>\n",
       "    </tr>\n",
       "    <tr>\n",
       "      <th>614</th>\n",
       "      <td>39475415</td>\n",
       "    </tr>\n",
       "    <tr>\n",
       "      <th>1316</th>\n",
       "      <td>21760210</td>\n",
       "    </tr>\n",
       "  </tbody>\n",
       "</table>\n",
       "<p>887 rows × 1 columns</p>\n",
       "</div>"
      ],
      "text/plain": [
       "      time_to_eruption\n",
       "730           44382960\n",
       "600           37982622\n",
       "662            1520211\n",
       "3023          41919713\n",
       "1661           9631599\n",
       "...                ...\n",
       "1093          34500541\n",
       "3346           7642741\n",
       "942           33464579\n",
       "614           39475415\n",
       "1316          21760210\n",
       "\n",
       "[887 rows x 1 columns]"
      ]
     },
     "execution_count": 239,
     "metadata": {},
     "output_type": "execute_result"
    }
   ],
   "source": [
    "Y_test"
   ]
  },
  {
   "cell_type": "markdown",
   "metadata": {},
   "source": [
    "#### Next, let's try training a model with the scaled data"
   ]
  },
  {
   "cell_type": "code",
   "execution_count": 32,
   "metadata": {},
   "outputs": [
    {
     "name": "stderr",
     "output_type": "stream",
     "text": [
      "train_instance_count has been renamed in sagemaker>=2.\n",
      "See: https://sagemaker.readthedocs.io/en/stable/v2.html for details.\n",
      "train_instance_type has been renamed in sagemaker>=2.\n",
      "See: https://sagemaker.readthedocs.io/en/stable/v2.html for details.\n"
     ]
    }
   ],
   "source": [
    "# Estimator object\n",
    "xgb_scaled = sagemaker.estimator.Estimator(xgb_container, # The name of the training container\n",
    "                                    role,      # The IAM role to use (our current role in this case)\n",
    "                                    train_instance_count=1, # The number of instances to use for training\n",
    "                                    train_instance_type='ml.m4.xlarge', # The type of instance ot use for training\n",
    "                                    output_path='s3://{}/{}/output'.format(session.default_bucket(), prefix),\n",
    "                                                                        # Where to save the output (the model artifacts)\n",
    "                                    sagemaker_session=session) # The current SageMaker session"
   ]
  },
  {
   "cell_type": "code",
   "execution_count": 33,
   "metadata": {},
   "outputs": [],
   "source": [
    "xgb_scaled.set_hyperparameters(max_depth=5,\n",
    "                        eta=0.2,\n",
    "                        gamma=4,\n",
    "                        min_child_weight=6,\n",
    "                        subsample=0.8,\n",
    "                        objective='reg:linear',\n",
    "                        early_stopping_rounds=10,\n",
    "                        num_round=200)"
   ]
  },
  {
   "cell_type": "code",
   "execution_count": 34,
   "metadata": {},
   "outputs": [],
   "source": [
    "s3_input_trainsc = sagemaker.inputs.TrainingInput(s3_data=train_sc_location, content_type='text/csv')\n",
    "s3_input_validationsc = sagemaker.inputs.TrainingInput(s3_data=val_sc_location, content_type='text/csv')"
   ]
  },
  {
   "cell_type": "code",
   "execution_count": 39,
   "metadata": {},
   "outputs": [],
   "source": [
    "xgb_hyperparameter_tuner_sc = HyperparameterTuner(estimator = xgb_scaled, # The estimator object to use as the basis for the training jobs.\n",
    "                                               objective_metric_name = 'validation:mae', # The metric used to compare trained models.\n",
    "                                               objective_type = 'Minimize', # Whether we wish to minimize or maximize the metric.\n",
    "                                               max_jobs = 20, # The total number of models to train\n",
    "                                               max_parallel_jobs = 3, # The number of models to train in parallel\n",
    "                                               hyperparameter_ranges = {\n",
    "                                                    'max_depth': IntegerParameter(3, 12),\n",
    "                                                    'eta'      : ContinuousParameter(0.05, 0.5),\n",
    "                                                    'min_child_weight': IntegerParameter(2, 8),\n",
    "                                                    'subsample': ContinuousParameter(0.5, 0.9),\n",
    "                                                    'gamma': ContinuousParameter(0, 10),\n",
    "                                               })"
   ]
  },
  {
   "cell_type": "code",
   "execution_count": 40,
   "metadata": {},
   "outputs": [
    {
     "name": "stdout",
     "output_type": "stream",
     "text": [
      "...................................................................................................................................................................................................................................................................................................................................................!\n"
     ]
    }
   ],
   "source": [
    "xgb_hyperparameter_tuner_sc.fit({'train': s3_input_trainsc, 'validation': s3_input_validationsc})"
   ]
  },
  {
   "cell_type": "code",
   "execution_count": 41,
   "metadata": {},
   "outputs": [
    {
     "name": "stdout",
     "output_type": "stream",
     "text": [
      "\n",
      "2020-12-15 22:01:04 Starting - Preparing the instances for training\n",
      "2020-12-15 22:01:04 Downloading - Downloading input data\n",
      "2020-12-15 22:01:04 Training - Training image download completed. Training in progress.\n",
      "2020-12-15 22:01:04 Uploading - Uploading generated training model\n",
      "2020-12-15 22:01:04 Completed - Training job completed\n"
     ]
    }
   ],
   "source": [
    "xgb_attached_sc = sagemaker.estimator.Estimator.attach(xgb_hyperparameter_tuner_sc.best_training_job())"
   ]
  },
  {
   "cell_type": "code",
   "execution_count": 42,
   "metadata": {},
   "outputs": [],
   "source": [
    "xgb_transformer_sc = xgb_attached_sc.transformer(instance_count = 1, instance_type = 'ml.m4.xlarge')"
   ]
  },
  {
   "cell_type": "code",
   "execution_count": 43,
   "metadata": {},
   "outputs": [
    {
     "name": "stdout",
     "output_type": "stream",
     "text": [
      ".................................\n",
      ".\u001b[32m2020-12-15T22:08:11.260:[sagemaker logs]: MaxConcurrentTransforms=4, MaxPayloadInMB=6, BatchStrategy=MULTI_RECORD\u001b[0m\n",
      "\u001b[34m[2020-12-15:22:08:09:INFO] No GPUs detected (normal if no gpus installed)\u001b[0m\n",
      "\u001b[34m[2020-12-15:22:08:09:INFO] No GPUs detected (normal if no gpus installed)\u001b[0m\n",
      "\u001b[35m[2020-12-15:22:08:09:INFO] No GPUs detected (normal if no gpus installed)\u001b[0m\n",
      "\u001b[35m[2020-12-15:22:08:09:INFO] No GPUs detected (normal if no gpus installed)\u001b[0m\n",
      "\u001b[34m[2020-12-15:22:08:09:INFO] nginx config: \u001b[0m\n",
      "\u001b[34mworker_processes auto;\u001b[0m\n",
      "\u001b[34mdaemon off;\u001b[0m\n",
      "\u001b[34mpid /tmp/nginx.pid;\u001b[0m\n",
      "\u001b[34merror_log  /dev/stderr;\n",
      "\u001b[0m\n",
      "\u001b[34mworker_rlimit_nofile 4096;\n",
      "\u001b[0m\n",
      "\u001b[34mevents {\n",
      "  worker_connections 2048;\u001b[0m\n",
      "\u001b[34m}\n",
      "\u001b[0m\n",
      "\u001b[35m[2020-12-15:22:08:09:INFO] nginx config: \u001b[0m\n",
      "\u001b[35mworker_processes auto;\u001b[0m\n",
      "\u001b[35mdaemon off;\u001b[0m\n",
      "\u001b[35mpid /tmp/nginx.pid;\u001b[0m\n",
      "\u001b[35merror_log  /dev/stderr;\n",
      "\u001b[0m\n",
      "\u001b[35mworker_rlimit_nofile 4096;\n",
      "\u001b[0m\n",
      "\u001b[35mevents {\n",
      "  worker_connections 2048;\u001b[0m\n",
      "\u001b[35m}\n",
      "\u001b[0m\n",
      "\u001b[34mhttp {\n",
      "  include /etc/nginx/mime.types;\n",
      "  default_type application/octet-stream;\n",
      "  access_log /dev/stdout combined;\n",
      "\n",
      "  upstream gunicorn {\n",
      "    server unix:/tmp/gunicorn.sock;\n",
      "  }\n",
      "\n",
      "  server {\n",
      "    listen 8080 deferred;\n",
      "    client_max_body_size 0;\n",
      "\n",
      "    keepalive_timeout 3;\n",
      "\n",
      "    location ~ ^/(ping|invocations|execution-parameters) {\n",
      "      proxy_set_header X-Forwarded-For $proxy_add_x_forwarded_for;\n",
      "      proxy_set_header Host $http_host;\n",
      "      proxy_redirect off;\n",
      "      proxy_read_timeout 60s;\n",
      "      proxy_pass http://gunicorn;\n",
      "    }\n",
      "\n",
      "    location / {\n",
      "      return 404 \"{}\";\n",
      "    }\n",
      "\n",
      "  }\u001b[0m\n",
      "\u001b[34m}\n",
      "\n",
      "\u001b[0m\n",
      "\u001b[34m2020/12/15 22:08:09 [crit] 18#18: *1 connect() to unix:/tmp/gunicorn.sock failed (2: No such file or directory) while connecting to upstream, client: 169.254.255.130, server: , request: \"GET /ping HTTP/1.1\", upstream: \"http://unix:/tmp/gunicorn.sock:/ping\", host: \"169.254.255.131:8080\"\u001b[0m\n",
      "\u001b[34m169.254.255.130 - - [15/Dec/2020:22:08:09 +0000] \"GET /ping HTTP/1.1\" 502 182 \"-\" \"Go-http-client/1.1\"\u001b[0m\n",
      "\u001b[34m2020/12/15 22:08:09 [crit] 18#18: *3 connect() to unix:/tmp/gunicorn.sock failed (2: No such file or directory) while connecting to upstream, client: 169.254.255.130, server: , request: \"GET /ping HTTP/1.1\", upstream: \"http://unix:/tmp/gunicorn.sock:/ping\", host: \"169.254.255.131:8080\"\u001b[0m\n",
      "\u001b[34m169.254.255.130 - - [15/Dec/2020:22:08:09 +0000] \"GET /ping HTTP/1.1\" 502 182 \"-\" \"Go-http-client/1.1\"\u001b[0m\n",
      "\u001b[34m[2020-12-15 22:08:09 +0000] [17] [INFO] Starting gunicorn 19.10.0\u001b[0m\n",
      "\u001b[34m[2020-12-15 22:08:09 +0000] [17] [INFO] Listening at: unix:/tmp/gunicorn.sock (17)\u001b[0m\n",
      "\u001b[34m[2020-12-15 22:08:09 +0000] [17] [INFO] Using worker: gevent\u001b[0m\n",
      "\u001b[34m[2020-12-15 22:08:09 +0000] [24] [INFO] Booting worker with pid: 24\u001b[0m\n",
      "\u001b[34m[2020-12-15 22:08:09 +0000] [25] [INFO] Booting worker with pid: 25\u001b[0m\n",
      "\u001b[34m[2020-12-15 22:08:09 +0000] [29] [INFO] Booting worker with pid: 29\u001b[0m\n",
      "\u001b[34m[2020-12-15 22:08:09 +0000] [30] [INFO] Booting worker with pid: 30\u001b[0m\n",
      "\u001b[34m[2020-12-15:22:08:11:INFO] No GPUs detected (normal if no gpus installed)\u001b[0m\n",
      "\u001b[35mhttp {\n",
      "  include /etc/nginx/mime.types;\n",
      "  default_type application/octet-stream;\n",
      "  access_log /dev/stdout combined;\n",
      "\n",
      "  upstream gunicorn {\n",
      "    server unix:/tmp/gunicorn.sock;\n",
      "  }\n",
      "\n",
      "  server {\n",
      "    listen 8080 deferred;\n",
      "    client_max_body_size 0;\n",
      "\n",
      "    keepalive_timeout 3;\n",
      "\n",
      "    location ~ ^/(ping|invocations|execution-parameters) {\n",
      "      proxy_set_header X-Forwarded-For $proxy_add_x_forwarded_for;\n",
      "      proxy_set_header Host $http_host;\n",
      "      proxy_redirect off;\n",
      "      proxy_read_timeout 60s;\n",
      "      proxy_pass http://gunicorn;\n",
      "    }\n",
      "\n",
      "    location / {\n",
      "      return 404 \"{}\";\n",
      "    }\n",
      "\n",
      "  }\u001b[0m\n",
      "\u001b[35m}\n",
      "\n",
      "\u001b[0m\n",
      "\u001b[35m2020/12/15 22:08:09 [crit] 18#18: *1 connect() to unix:/tmp/gunicorn.sock failed (2: No such file or directory) while connecting to upstream, client: 169.254.255.130, server: , request: \"GET /ping HTTP/1.1\", upstream: \"http://unix:/tmp/gunicorn.sock:/ping\", host: \"169.254.255.131:8080\"\u001b[0m\n",
      "\u001b[35m169.254.255.130 - - [15/Dec/2020:22:08:09 +0000] \"GET /ping HTTP/1.1\" 502 182 \"-\" \"Go-http-client/1.1\"\u001b[0m\n",
      "\u001b[35m2020/12/15 22:08:09 [crit] 18#18: *3 connect() to unix:/tmp/gunicorn.sock failed (2: No such file or directory) while connecting to upstream, client: 169.254.255.130, server: , request: \"GET /ping HTTP/1.1\", upstream: \"http://unix:/tmp/gunicorn.sock:/ping\", host: \"169.254.255.131:8080\"\u001b[0m\n",
      "\u001b[35m169.254.255.130 - - [15/Dec/2020:22:08:09 +0000] \"GET /ping HTTP/1.1\" 502 182 \"-\" \"Go-http-client/1.1\"\u001b[0m\n",
      "\u001b[35m[2020-12-15 22:08:09 +0000] [17] [INFO] Starting gunicorn 19.10.0\u001b[0m\n",
      "\u001b[35m[2020-12-15 22:08:09 +0000] [17] [INFO] Listening at: unix:/tmp/gunicorn.sock (17)\u001b[0m\n",
      "\u001b[35m[2020-12-15 22:08:09 +0000] [17] [INFO] Using worker: gevent\u001b[0m\n",
      "\u001b[35m[2020-12-15 22:08:09 +0000] [24] [INFO] Booting worker with pid: 24\u001b[0m\n",
      "\u001b[35m[2020-12-15 22:08:09 +0000] [25] [INFO] Booting worker with pid: 25\u001b[0m\n",
      "\u001b[35m[2020-12-15 22:08:09 +0000] [29] [INFO] Booting worker with pid: 29\u001b[0m\n",
      "\u001b[35m[2020-12-15 22:08:09 +0000] [30] [INFO] Booting worker with pid: 30\u001b[0m\n",
      "\u001b[35m[2020-12-15:22:08:11:INFO] No GPUs detected (normal if no gpus installed)\u001b[0m\n",
      "\u001b[34m169.254.255.130 - - [15/Dec/2020:22:08:11 +0000] \"GET /ping HTTP/1.1\" 200 0 \"-\" \"Go-http-client/1.1\"\u001b[0m\n",
      "\u001b[34m169.254.255.130 - - [15/Dec/2020:22:08:11 +0000] \"GET /execution-parameters HTTP/1.1\" 200 84 \"-\" \"Go-http-client/1.1\"\u001b[0m\n",
      "\u001b[34m[2020-12-15:22:08:11:INFO] No GPUs detected (normal if no gpus installed)\u001b[0m\n",
      "\u001b[34m[2020-12-15:22:08:11:INFO] Determined delimiter of CSV input is ','\u001b[0m\n",
      "\u001b[35m169.254.255.130 - - [15/Dec/2020:22:08:11 +0000] \"GET /ping HTTP/1.1\" 200 0 \"-\" \"Go-http-client/1.1\"\u001b[0m\n",
      "\u001b[35m169.254.255.130 - - [15/Dec/2020:22:08:11 +0000] \"GET /execution-parameters HTTP/1.1\" 200 84 \"-\" \"Go-http-client/1.1\"\u001b[0m\n",
      "\u001b[35m[2020-12-15:22:08:11:INFO] No GPUs detected (normal if no gpus installed)\u001b[0m\n",
      "\u001b[35m[2020-12-15:22:08:11:INFO] Determined delimiter of CSV input is ','\u001b[0m\n",
      "\u001b[34m[22:08:11] WARNING: ../src/objective/regression_obj.cu:174: reg:linear is now deprecated in favor of reg:squarederror.\u001b[0m\n",
      "\u001b[34m169.254.255.130 - - [15/Dec/2020:22:08:11 +0000] \"POST /invocations HTTP/1.1\" 200 560 \"-\" \"Go-http-client/1.1\"\u001b[0m\n",
      "\u001b[34m[2020-12-15:22:08:11:INFO] No GPUs detected (normal if no gpus installed)\u001b[0m\n",
      "\u001b[34m[2020-12-15:22:08:11:INFO] Determined delimiter of CSV input is ','\u001b[0m\n",
      "\u001b[34m[22:08:11] WARNING: ../src/objective/regression_obj.cu:174: reg:linear is now deprecated in favor of reg:squarederror.\u001b[0m\n",
      "\u001b[34m169.254.255.130 - - [15/Dec/2020:22:08:11 +0000] \"POST /invocations HTTP/1.1\" 200 17827 \"-\" \"Go-http-client/1.1\"\u001b[0m\n",
      "\u001b[35m[22:08:11] WARNING: ../src/objective/regression_obj.cu:174: reg:linear is now deprecated in favor of reg:squarederror.\u001b[0m\n",
      "\u001b[35m169.254.255.130 - - [15/Dec/2020:22:08:11 +0000] \"POST /invocations HTTP/1.1\" 200 560 \"-\" \"Go-http-client/1.1\"\u001b[0m\n",
      "\u001b[35m[2020-12-15:22:08:11:INFO] No GPUs detected (normal if no gpus installed)\u001b[0m\n",
      "\u001b[35m[2020-12-15:22:08:11:INFO] Determined delimiter of CSV input is ','\u001b[0m\n",
      "\u001b[35m[22:08:11] WARNING: ../src/objective/regression_obj.cu:174: reg:linear is now deprecated in favor of reg:squarederror.\u001b[0m\n",
      "\u001b[35m169.254.255.130 - - [15/Dec/2020:22:08:11 +0000] \"POST /invocations HTTP/1.1\" 200 17827 \"-\" \"Go-http-client/1.1\"\u001b[0m\n"
     ]
    }
   ],
   "source": [
    "xgb_transformer_sc.transform(test_sc_location, content_type='text/csv', split_type='Line')"
   ]
  },
  {
   "cell_type": "code",
   "execution_count": 44,
   "metadata": {},
   "outputs": [
    {
     "name": "stdout",
     "output_type": "stream",
     "text": [
      "---------------!"
     ]
    }
   ],
   "source": [
    "xgb_predictor_sc = xgb_attached_sc.deploy(initial_instance_count=1, instance_type='ml.m4.xlarge')"
   ]
  },
  {
   "cell_type": "code",
   "execution_count": 45,
   "metadata": {},
   "outputs": [],
   "source": [
    "xgb_predictor_sc.serializer = csv_serializer"
   ]
  },
  {
   "cell_type": "code",
   "execution_count": 46,
   "metadata": {},
   "outputs": [],
   "source": [
    "def predict_sc(data, rows=500):\n",
    "    split_array = np.array_split(data, int(data.shape[0] / float(rows) + 1))\n",
    "    predictions = ''\n",
    "    for array in split_array:\n",
    "        predictions = ','.join([predictions, xgb_predictor_sc.predict(array).decode('utf-8')])\n",
    "\n",
    "    return np.fromstring(predictions[1:], sep=',')"
   ]
  },
  {
   "cell_type": "code",
   "execution_count": 64,
   "metadata": {},
   "outputs": [
    {
     "name": "stderr",
     "output_type": "stream",
     "text": [
      "The csv_serializer has been renamed in sagemaker>=2.\n",
      "See: https://sagemaker.readthedocs.io/en/stable/v2.html for details.\n",
      "The csv_serializer has been renamed in sagemaker>=2.\n",
      "See: https://sagemaker.readthedocs.io/en/stable/v2.html for details.\n",
      "The csv_serializer has been renamed in sagemaker>=2.\n",
      "See: https://sagemaker.readthedocs.io/en/stable/v2.html for details.\n",
      "The csv_serializer has been renamed in sagemaker>=2.\n",
      "See: https://sagemaker.readthedocs.io/en/stable/v2.html for details.\n",
      "The csv_serializer has been renamed in sagemaker>=2.\n",
      "See: https://sagemaker.readthedocs.io/en/stable/v2.html for details.\n",
      "The csv_serializer has been renamed in sagemaker>=2.\n",
      "See: https://sagemaker.readthedocs.io/en/stable/v2.html for details.\n",
      "The csv_serializer has been renamed in sagemaker>=2.\n",
      "See: https://sagemaker.readthedocs.io/en/stable/v2.html for details.\n",
      "The csv_serializer has been renamed in sagemaker>=2.\n",
      "See: https://sagemaker.readthedocs.io/en/stable/v2.html for details.\n",
      "The csv_serializer has been renamed in sagemaker>=2.\n",
      "See: https://sagemaker.readthedocs.io/en/stable/v2.html for details.\n",
      "The csv_serializer has been renamed in sagemaker>=2.\n",
      "See: https://sagemaker.readthedocs.io/en/stable/v2.html for details.\n"
     ]
    },
    {
     "data": {
      "text/html": [
       "<div>\n",
       "<style scoped>\n",
       "    .dataframe tbody tr th:only-of-type {\n",
       "        vertical-align: middle;\n",
       "    }\n",
       "\n",
       "    .dataframe tbody tr th {\n",
       "        vertical-align: top;\n",
       "    }\n",
       "\n",
       "    .dataframe thead th {\n",
       "        text-align: right;\n",
       "    }\n",
       "</style>\n",
       "<table border=\"1\" class=\"dataframe\">\n",
       "  <thead>\n",
       "    <tr style=\"text-align: right;\">\n",
       "      <th></th>\n",
       "      <th>time_to_eruption</th>\n",
       "    </tr>\n",
       "    <tr>\n",
       "      <th>segment_id</th>\n",
       "      <th></th>\n",
       "    </tr>\n",
       "  </thead>\n",
       "  <tbody>\n",
       "    <tr>\n",
       "      <th>1000213997</th>\n",
       "      <td>23613386</td>\n",
       "    </tr>\n",
       "    <tr>\n",
       "      <th>100023368</th>\n",
       "      <td>23843159</td>\n",
       "    </tr>\n",
       "    <tr>\n",
       "      <th>1000488999</th>\n",
       "      <td>24037344</td>\n",
       "    </tr>\n",
       "    <tr>\n",
       "      <th>1001028887</th>\n",
       "      <td>23031043</td>\n",
       "    </tr>\n",
       "    <tr>\n",
       "      <th>1001857862</th>\n",
       "      <td>23690650</td>\n",
       "    </tr>\n",
       "    <tr>\n",
       "      <th>...</th>\n",
       "      <td>...</td>\n",
       "    </tr>\n",
       "    <tr>\n",
       "      <th>996704281</th>\n",
       "      <td>23793905</td>\n",
       "    </tr>\n",
       "    <tr>\n",
       "      <th>997630809</th>\n",
       "      <td>22714653</td>\n",
       "    </tr>\n",
       "    <tr>\n",
       "      <th>998072137</th>\n",
       "      <td>23463363</td>\n",
       "    </tr>\n",
       "    <tr>\n",
       "      <th>998136924</th>\n",
       "      <td>23513998</td>\n",
       "    </tr>\n",
       "    <tr>\n",
       "      <th>99975682</th>\n",
       "      <td>23533705</td>\n",
       "    </tr>\n",
       "  </tbody>\n",
       "</table>\n",
       "<p>4520 rows × 1 columns</p>\n",
       "</div>"
      ],
      "text/plain": [
       "            time_to_eruption\n",
       "segment_id                  \n",
       "1000213997          23613386\n",
       "100023368           23843159\n",
       "1000488999          24037344\n",
       "1001028887          23031043\n",
       "1001857862          23690650\n",
       "...                      ...\n",
       "996704281           23793905\n",
       "997630809           22714653\n",
       "998072137           23463363\n",
       "998136924           23513998\n",
       "99975682            23533705\n",
       "\n",
       "[4520 rows x 1 columns]"
      ]
     },
     "metadata": {},
     "output_type": "display_data"
    }
   ],
   "source": [
    "submit = pd.DataFrame(scale.inverse_transform(predict_sc(scaled_test.values)),\n",
    "                      index=test[\"segment_id\"],\n",
    "                      columns=[\"time_to_eruption\"],\n",
    "                      dtype=\"int\")\n",
    "submit.clip(lower=0,inplace=True)\n",
    "\n",
    "display(submit)\n",
    "\n",
    "submit.to_csv(\"submission.csv\")\n",
    "\n",
    "# scale.inverse_transform(gbm.predict(scaled_test)"
   ]
  },
  {
   "cell_type": "markdown",
   "metadata": {},
   "source": [
    "This performed worse than the model using unscaled data. I scored 11313082 MAE on this one."
   ]
  },
  {
   "cell_type": "code",
   "execution_count": null,
   "metadata": {},
   "outputs": [],
   "source": []
  }
 ],
 "metadata": {
  "kernelspec": {
   "display_name": "conda_pytorch_latest_p36",
   "language": "python",
   "name": "conda_pytorch_latest_p36"
  },
  "language_info": {
   "codemirror_mode": {
    "name": "ipython",
    "version": 3
   },
   "file_extension": ".py",
   "mimetype": "text/x-python",
   "name": "python",
   "nbconvert_exporter": "python",
   "pygments_lexer": "ipython3",
   "version": "3.6.10"
  }
 },
 "nbformat": 4,
 "nbformat_minor": 4
}
